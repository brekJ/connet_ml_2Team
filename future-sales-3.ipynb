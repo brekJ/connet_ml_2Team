{
 "cells": [
  {
   "cell_type": "markdown",
   "metadata": {
    "papermill": {
     "duration": 0.07197,
     "end_time": "2024-06-24T09:06:09.356933",
     "exception": false,
     "start_time": "2024-06-24T09:06:09.284963",
     "status": "completed"
    },
    "tags": []
   },
   "source": [
    "# Introduction\n",
    "\n",
    "The Future Sales competition is the final assesment in the 'How to win a Data Science' course in the Advanced Machine Learning specialisation from HSE University, Moscow. The aim is to predict the monthly sales of items in specific shops, given historical data. The sale counts are clipped between 0 and 20."
   ]
  },
  {
   "cell_type": "code",
   "execution_count": 1,
   "metadata": {
    "execution": {
     "iopub.execute_input": "2024-06-24T09:06:09.504872Z",
     "iopub.status.busy": "2024-06-24T09:06:09.503959Z",
     "iopub.status.idle": "2024-06-24T09:06:10.603951Z",
     "shell.execute_reply": "2024-06-24T09:06:10.602774Z",
     "shell.execute_reply.started": "2024-06-24T08:20:29.200935Z"
    },
    "papermill": {
     "duration": 1.176967,
     "end_time": "2024-06-24T09:06:10.604192",
     "exception": false,
     "start_time": "2024-06-24T09:06:09.427225",
     "status": "completed"
    },
    "tags": []
   },
   "outputs": [
    {
     "name": "stdout",
     "output_type": "stream",
     "text": [
      "/kaggle/input/competitive-data-science-predict-future-sales/items.csv\n",
      "/kaggle/input/competitive-data-science-predict-future-sales/sample_submission.csv\n",
      "/kaggle/input/competitive-data-science-predict-future-sales/item_categories.csv\n",
      "/kaggle/input/competitive-data-science-predict-future-sales/sales_train.csv\n",
      "/kaggle/input/competitive-data-science-predict-future-sales/shops.csv\n",
      "/kaggle/input/competitive-data-science-predict-future-sales/test.csv\n"
     ]
    }
   ],
   "source": [
    "import numpy as np \n",
    "import pandas as pd \n",
    "import matplotlib.pyplot as plt\n",
    "import seaborn as sns\n",
    "sns.set(style=\"darkgrid\")\n",
    "\n",
    "# /kaggle/input 내의 모든 파일의 경로 출력\n",
    "import os\n",
    "for dirname, _, filenames in os.walk('/kaggle/input'):\n",
    "    for filename in filenames:\n",
    "        print(os.path.join(dirname, filename))"
   ]
  },
  {
   "cell_type": "markdown",
   "metadata": {
    "papermill": {
     "duration": 0.078781,
     "end_time": "2024-06-24T09:06:10.762547",
     "exception": false,
     "start_time": "2024-06-24T09:06:10.683766",
     "status": "completed"
    },
    "tags": []
   },
   "source": []
  },
  {
   "cell_type": "markdown",
   "metadata": {
    "papermill": {
     "duration": 0.067552,
     "end_time": "2024-06-24T09:06:10.900267",
     "exception": false,
     "start_time": "2024-06-24T09:06:10.832715",
     "status": "completed"
    },
    "tags": []
   },
   "source": [
    "# Load Data"
   ]
  },
  {
   "cell_type": "code",
   "execution_count": 2,
   "metadata": {
    "execution": {
     "iopub.execute_input": "2024-06-24T09:06:11.044924Z",
     "iopub.status.busy": "2024-06-24T09:06:11.044085Z",
     "iopub.status.idle": "2024-06-24T09:06:14.221025Z",
     "shell.execute_reply": "2024-06-24T09:06:14.220279Z",
     "shell.execute_reply.started": "2024-06-24T08:20:30.171195Z"
    },
    "papermill": {
     "duration": 3.253085,
     "end_time": "2024-06-24T09:06:14.221161",
     "exception": false,
     "start_time": "2024-06-24T09:06:10.968076",
     "status": "completed"
    },
    "tags": []
   },
   "outputs": [],
   "source": [
    "# load data\n",
    "items=pd.read_csv(\"/kaggle/input/competitive-data-science-predict-future-sales/items.csv\")\n",
    "shops=pd.read_csv(\"/kaggle/input/competitive-data-science-predict-future-sales/shops.csv\")\n",
    "cats=pd.read_csv(\"/kaggle/input/competitive-data-science-predict-future-sales/item_categories.csv\")\n",
    "train=pd.read_csv(\"/kaggle/input/competitive-data-science-predict-future-sales/sales_train.csv\")\n",
    "test=pd.read_csv(\"/kaggle/input/competitive-data-science-predict-future-sales/test.csv\")"
   ]
  },
  {
   "cell_type": "markdown",
   "metadata": {
    "papermill": {
     "duration": 0.067809,
     "end_time": "2024-06-24T09:06:14.357080",
     "exception": false,
     "start_time": "2024-06-24T09:06:14.289271",
     "status": "completed"
    },
    "tags": []
   },
   "source": [
    "# 1. Data Cleaning\n",
    "\n",
    "We'll remove outliers, clean up some of the raw data and add some new variables to it."
   ]
  },
  {
   "cell_type": "markdown",
   "metadata": {
    "papermill": {
     "duration": 0.068812,
     "end_time": "2024-06-24T09:06:14.497666",
     "exception": false,
     "start_time": "2024-06-24T09:06:14.428854",
     "status": "completed"
    },
    "tags": []
   },
   "source": [
    "# Remove outliers"
   ]
  },
  {
   "cell_type": "code",
   "execution_count": 3,
   "metadata": {
    "execution": {
     "iopub.execute_input": "2024-06-24T09:06:14.645670Z",
     "iopub.status.busy": "2024-06-24T09:06:14.644692Z",
     "iopub.status.idle": "2024-06-24T09:06:16.471538Z",
     "shell.execute_reply": "2024-06-24T09:06:16.470727Z",
     "shell.execute_reply.started": "2024-06-24T08:20:32.942652Z"
    },
    "papermill": {
     "duration": 1.904846,
     "end_time": "2024-06-24T09:06:16.471671",
     "exception": false,
     "start_time": "2024-06-24T09:06:14.566825",
     "status": "completed"
    },
    "tags": []
   },
   "outputs": [
    {
     "data": {
      "text/plain": [
       "<matplotlib.axes._subplots.AxesSubplot at 0x7d00aa6b2950>"
      ]
     },
     "execution_count": 3,
     "metadata": {},
     "output_type": "execute_result"
    },
    {
     "data": {
      "image/png": "[encoded data removed]",
      "text/plain": [
       "<Figure size 720x288 with 1 Axes>"
      ]
     },
     "metadata": {},
     "output_type": "display_data"
    },
    {
     "data": {
      "image/png": "[encoded data removed]",
      "text/plain": [
       "<Figure size 720x288 with 1 Axes>"
      ]
     },
     "metadata": {},
     "output_type": "display_data"
    }
   ],
   "source": [
    "plt.figure(figsize=(10,4))   #그림 사이즈 지정\n",
    "plt.xlim(-100, 3000)    # X 값 범위\n",
    "flierprops = dict(marker='o', markerfacecolor='purple', markersize=6,\n",
    "                  linestyle='none', markeredgecolor='black')\n",
    "#포인터 설정\n",
    "\n",
    "sns.boxplot(x=train.item_cnt_day, flierprops=flierprops)   \n",
    "# x 를 train의 itm_cnt로 하는 박스플롯 \n",
    "#flierprops는 위에 설정한대로\n",
    "\n",
    "\n",
    "#train.item_price 박스 플롯 추가\n",
    "plt.figure(figsize=(10,4))\n",
    "plt.xlim(train.item_price.min(), train.item_price.max()*1.1)\n",
    "sns.boxplot(x=train.item_price, flierprops=flierprops)"
   ]
  },
  {
   "cell_type": "markdown",
   "metadata": {
    "papermill": {
     "duration": 0.071195,
     "end_time": "2024-06-24T09:06:16.614360",
     "exception": false,
     "start_time": "2024-06-24T09:06:16.543165",
     "status": "completed"
    },
    "tags": []
   },
   "source": [
    "We'll remove the obvious outliers in the dataset - the items that sold more than 1000 in one day and the item with price greater than 300,000."
   ]
  },
  {
   "cell_type": "code",
   "execution_count": 4,
   "metadata": {
    "execution": {
     "iopub.execute_input": "2024-06-24T09:06:16.762780Z",
     "iopub.status.busy": "2024-06-24T09:06:16.761911Z",
     "iopub.status.idle": "2024-06-24T09:06:16.944398Z",
     "shell.execute_reply": "2024-06-24T09:06:16.943478Z",
     "shell.execute_reply.started": "2024-06-24T08:20:34.692950Z"
    },
    "papermill": {
     "duration": 0.259222,
     "end_time": "2024-06-24T09:06:16.944580",
     "exception": false,
     "start_time": "2024-06-24T09:06:16.685358",
     "status": "completed"
    },
    "tags": []
   },
   "outputs": [],
   "source": [
    "train = train[(train.item_price < 300000 )& (train.item_cnt_day < 1000)]\n",
    "# 아웃라이어 값 제거"
   ]
  },
  {
   "cell_type": "markdown",
   "metadata": {
    "papermill": {
     "duration": 0.070795,
     "end_time": "2024-06-24T09:06:17.086889",
     "exception": false,
     "start_time": "2024-06-24T09:06:17.016094",
     "status": "completed"
    },
    "tags": []
   },
   "source": [
    "Remove any rows from train where item price is negative - these could be refunds. Also make zero and item_cnt_day values less than one, to remove negative values."
   ]
  },
  {
   "cell_type": "code",
   "execution_count": 5,
   "metadata": {
    "execution": {
     "iopub.execute_input": "2024-06-24T09:06:17.237824Z",
     "iopub.status.busy": "2024-06-24T09:06:17.236481Z",
     "iopub.status.idle": "2024-06-24T09:06:17.506948Z",
     "shell.execute_reply": "2024-06-24T09:06:17.506117Z",
     "shell.execute_reply.started": "2024-06-24T08:20:34.874920Z"
    },
    "papermill": {
     "duration": 0.349876,
     "end_time": "2024-06-24T09:06:17.507085",
     "exception": false,
     "start_time": "2024-06-24T09:06:17.157209",
     "status": "completed"
    },
    "tags": []
   },
   "outputs": [],
   "source": [
    "train = train[train.item_price > 0].reset_index(drop = True)\n",
    "# 가격이 음수인 데이터 제거\n",
    "train.loc[train.item_cnt_day < 1, \"item_cnt_day\"] = 0\n",
    "# day가 음수인것도 0으로 만듬"
   ]
  },
  {
   "cell_type": "markdown",
   "metadata": {
    "papermill": {
     "duration": 0.069628,
     "end_time": "2024-06-24T09:06:17.646819",
     "exception": false,
     "start_time": "2024-06-24T09:06:17.577191",
     "status": "completed"
    },
    "tags": []
   },
   "source": [
    "# Cleaning Shop Data"
   ]
  },
  {
   "cell_type": "markdown",
   "metadata": {
    "papermill": {
     "duration": 0.070406,
     "end_time": "2024-06-24T09:06:17.788084",
     "exception": false,
     "start_time": "2024-06-24T09:06:17.717678",
     "status": "completed"
    },
    "tags": []
   },
   "source": [
    "Several of the shops look like duplicates of each other. This could be down to shops re-opening or possibly moving store location on the same street or shopping centre."
   ]
  },
  {
   "cell_type": "code",
   "execution_count": 6,
   "metadata": {
    "execution": {
     "iopub.execute_input": "2024-06-24T09:06:17.937219Z",
     "iopub.status.busy": "2024-06-24T09:06:17.936318Z",
     "iopub.status.idle": "2024-06-24T09:06:18.031394Z",
     "shell.execute_reply": "2024-06-24T09:06:18.030738Z",
     "shell.execute_reply.started": "2024-06-24T08:20:35.145964Z"
    },
    "papermill": {
     "duration": 0.17361,
     "end_time": "2024-06-24T09:06:18.031540",
     "exception": false,
     "start_time": "2024-06-24T09:06:17.857930",
     "status": "completed"
    },
    "tags": []
   },
   "outputs": [],
   "source": [
    "# Якутск Орджоникидзе, 56\n",
    "train.loc[train.shop_id == 0, 'shop_id'] = 57\n",
    "test.loc[test.shop_id == 0, 'shop_id'] = 57\n",
    "# Якутск ТЦ \"Центральный\"\n",
    "train.loc[train.shop_id == 1, 'shop_id'] = 58\n",
    "test.loc[test.shop_id == 1, 'shop_id'] = 58\n",
    "# Жуковский ул. Чкалова 39м²\n",
    "train.loc[train.shop_id == 10, 'shop_id'] = 11\n",
    "test.loc[test.shop_id == 10, 'shop_id'] = 11\n",
    "\n",
    "# 0 ->  57\n",
    "# 1 -> 58\n",
    "# 10 -> 11\n",
    "# 'shop_id' 의 값들 변경 ,중복된 값에 대한 처리"
   ]
  },
  {
   "cell_type": "markdown",
   "metadata": {
    "papermill": {
     "duration": 0.069956,
     "end_time": "2024-06-24T09:06:18.172221",
     "exception": false,
     "start_time": "2024-06-24T09:06:18.102265",
     "status": "completed"
    },
    "tags": []
   },
   "source": [
    "Clean up some shop names and add 'city' and 'category' to shops df."
   ]
  },
  {
   "cell_type": "code",
   "execution_count": 7,
   "metadata": {
    "execution": {
     "iopub.execute_input": "2024-06-24T09:06:18.336838Z",
     "iopub.status.busy": "2024-06-24T09:06:18.335668Z",
     "iopub.status.idle": "2024-06-24T09:06:18.339143Z",
     "shell.execute_reply": "2024-06-24T09:06:18.338266Z",
     "shell.execute_reply.started": "2024-06-24T08:20:35.250913Z"
    },
    "papermill": {
     "duration": 0.093835,
     "end_time": "2024-06-24T09:06:18.339292",
     "exception": false,
     "start_time": "2024-06-24T09:06:18.245457",
     "status": "completed"
    },
    "tags": []
   },
   "outputs": [],
   "source": [
    "shops.loc[ shops.shop_name == 'Сергиев Посад ТЦ \"7Я\"',\"shop_name\" ] = 'СергиевПосад ТЦ \"7Я\"'\n",
    "# 붙여 쓰기\n",
    "\n",
    "shops[\"city\"] = shops.shop_name.str.split(\" \").map( lambda x: x[0] )\n",
    "shops[\"category\"] = shops.shop_name.str.split(\" \").map( lambda x: x[1] )\n",
    "#도시, 카테고리 추출\n",
    "\n",
    "shops.loc[shops.city == \"!Якутск\", \"city\"] = \"Якутск\"\n",
    "# shops.city가 !Якутск 인걸 찾아서 '!'를 제거"
   ]
  },
  {
   "cell_type": "markdown",
   "metadata": {
    "papermill": {
     "duration": 0.074479,
     "end_time": "2024-06-24T09:06:18.487319",
     "exception": false,
     "start_time": "2024-06-24T09:06:18.412840",
     "status": "completed"
    },
    "tags": []
   },
   "source": [
    "Only keep shop category if there are 5 or more shops of that category, the rest are grouped as \"other\".\n",
    "\n",
    "카테고리에 값이 5개 이상인것만 사용"
   ]
  },
  {
   "cell_type": "code",
   "execution_count": 8,
   "metadata": {
    "execution": {
     "iopub.execute_input": "2024-06-24T09:06:18.648660Z",
     "iopub.status.busy": "2024-06-24T09:06:18.647622Z",
     "iopub.status.idle": "2024-06-24T09:06:18.651330Z",
     "shell.execute_reply": "2024-06-24T09:06:18.650698Z",
     "shell.execute_reply.started": "2024-06-24T08:20:35.276741Z"
    },
    "papermill": {
     "duration": 0.093822,
     "end_time": "2024-06-24T09:06:18.651481",
     "exception": false,
     "start_time": "2024-06-24T09:06:18.557659",
     "status": "completed"
    },
    "tags": []
   },
   "outputs": [],
   "source": [
    "category = []\n",
    "for cat in shops.category.unique():\n",
    "    if len(shops[shops.category == cat]) >= 5:\n",
    "        category.append(cat)\n",
    "        \n",
    "shops.category = shops.category.apply( lambda x: x if (x in category) else \"other\" )"
   ]
  },
  {
   "cell_type": "code",
   "execution_count": 9,
   "metadata": {
    "execution": {
     "iopub.execute_input": "2024-06-24T09:06:18.802243Z",
     "iopub.status.busy": "2024-06-24T09:06:18.801410Z",
     "iopub.status.idle": "2024-06-24T09:06:18.866935Z",
     "shell.execute_reply": "2024-06-24T09:06:18.866237Z",
     "shell.execute_reply.started": "2024-06-24T08:20:35.302895Z"
    },
    "papermill": {
     "duration": 0.143052,
     "end_time": "2024-06-24T09:06:18.867069",
     "exception": false,
     "start_time": "2024-06-24T09:06:18.724017",
     "status": "completed"
    },
    "tags": []
   },
   "outputs": [],
   "source": [
    "from sklearn.preprocessing import LabelEncoder\n",
    "shops[\"shop_category\"] = LabelEncoder().fit_transform( shops.category )\n",
    "shops[\"shop_city\"] = LabelEncoder().fit_transform( shops.city )\n",
    "# category 와 city 를 숫자형 데이터롤 바꾼다.\n",
    "\n",
    "shops = shops[[\"shop_id\", \"shop_category\", \"shop_city\"]]\n",
    "# \"shop_id\", \"shop_category\", \"shop_city\" 3개만 남김"
   ]
  },
  {
   "cell_type": "markdown",
   "metadata": {
    "papermill": {
     "duration": 0.069815,
     "end_time": "2024-06-24T09:06:19.007671",
     "exception": false,
     "start_time": "2024-06-24T09:06:18.937856",
     "status": "completed"
    },
    "tags": []
   },
   "source": [
    "# Cleaning Item Category Data"
   ]
  },
  {
   "cell_type": "code",
   "execution_count": 10,
   "metadata": {
    "execution": {
     "iopub.execute_input": "2024-06-24T09:06:19.163169Z",
     "iopub.status.busy": "2024-06-24T09:06:19.162186Z",
     "iopub.status.idle": "2024-06-24T09:06:19.165780Z",
     "shell.execute_reply": "2024-06-24T09:06:19.165006Z",
     "shell.execute_reply.started": "2024-06-24T08:20:35.388598Z"
    },
    "papermill": {
     "duration": 0.087785,
     "end_time": "2024-06-24T09:06:19.165936",
     "exception": false,
     "start_time": "2024-06-24T09:06:19.078151",
     "status": "completed"
    },
    "tags": []
   },
   "outputs": [],
   "source": [
    "cats[\"type_code\"] = cats.item_category_name.apply( lambda x: x.split(\" \")[0] ).astype(str)\n",
    "# category)_name의 단어를  '  '를 기준으로 나누고 0번 인덱스(첫번째 단어)를 type_code 에 저장\n",
    "cats.loc[ (cats.type_code == \"Игровые\")| (cats.type_code == \"Аксессуары\"), \"category\" ] = \"Игры\"\n",
    "# type_code의 Игровые, Аксессуары 를 Игры로 변경"
   ]
  },
  {
   "cell_type": "code",
   "execution_count": 11,
   "metadata": {
    "execution": {
     "iopub.execute_input": "2024-06-24T09:06:19.329027Z",
     "iopub.status.busy": "2024-06-24T09:06:19.327948Z",
     "iopub.status.idle": "2024-06-24T09:06:19.331283Z",
     "shell.execute_reply": "2024-06-24T09:06:19.330453Z",
     "shell.execute_reply.started": "2024-06-24T08:20:35.402910Z"
    },
    "papermill": {
     "duration": 0.093728,
     "end_time": "2024-06-24T09:06:19.331425",
     "exception": false,
     "start_time": "2024-06-24T09:06:19.237697",
     "status": "completed"
    },
    "tags": []
   },
   "outputs": [],
   "source": [
    "category = []\n",
    "for cat in cats.type_code.unique():\n",
    "    if len(cats[cats.type_code == cat]) >= 5: \n",
    "        category.append( cat )\n",
    "cats.type_code = cats.type_code.apply(lambda x: x if (x in category) else \"etc\")"
   ]
  },
  {
   "cell_type": "code",
   "execution_count": 12,
   "metadata": {
    "execution": {
     "iopub.execute_input": "2024-06-24T09:06:19.495111Z",
     "iopub.status.busy": "2024-06-24T09:06:19.493927Z",
     "iopub.status.idle": "2024-06-24T09:06:19.497359Z",
     "shell.execute_reply": "2024-06-24T09:06:19.496591Z",
     "shell.execute_reply.started": "2024-06-24T08:20:35.432357Z"
    },
    "papermill": {
     "duration": 0.093643,
     "end_time": "2024-06-24T09:06:19.497493",
     "exception": false,
     "start_time": "2024-06-24T09:06:19.403850",
     "status": "completed"
    },
    "tags": []
   },
   "outputs": [],
   "source": [
    "cats.type_code = LabelEncoder().fit_transform(cats.type_code)\n",
    "cats[\"split\"] = cats.item_category_name.apply(lambda x: x.split(\"-\"))\n",
    "cats[\"subtype\"] = cats.split.apply(lambda x: x[1].strip() if len(x) > 1 else x[0].strip())\n",
    "cats[\"subtype_code\"] = LabelEncoder().fit_transform( cats[\"subtype\"] )\n",
    "cats = cats[[\"item_category_id\", \"subtype_code\", \"type_code\"]]"
   ]
  },
  {
   "cell_type": "markdown",
   "metadata": {
    "papermill": {
     "duration": 0.069335,
     "end_time": "2024-06-24T09:06:19.637771",
     "exception": false,
     "start_time": "2024-06-24T09:06:19.568436",
     "status": "completed"
    },
    "tags": []
   },
   "source": [
    "# Cleaning Item Data"
   ]
  },
  {
   "cell_type": "code",
   "execution_count": 13,
   "metadata": {
    "execution": {
     "iopub.execute_input": "2024-06-24T09:06:19.789882Z",
     "iopub.status.busy": "2024-06-24T09:06:19.788544Z",
     "iopub.status.idle": "2024-06-24T09:06:19.791678Z",
     "shell.execute_reply": "2024-06-24T09:06:19.790915Z",
     "shell.execute_reply.started": "2024-06-24T08:20:35.451678Z"
    },
    "papermill": {
     "duration": 0.082003,
     "end_time": "2024-06-24T09:06:19.791814",
     "exception": false,
     "start_time": "2024-06-24T09:06:19.709811",
     "status": "completed"
    },
    "tags": []
   },
   "outputs": [],
   "source": [
    "import re\n",
    "def name_correction(x):\n",
    "    x = x.lower() # all letters lower case\n",
    "    x = x.partition('[')[0] # partition by square brackets\n",
    "    x = x.partition('(')[0] # partition by curly brackets\n",
    "    x = re.sub('[^A-Za-z0-9А-Яа-я]+', ' ', x) # remove special characters\n",
    "    x = x.replace('  ', ' ') # replace double spaces with single spaces\n",
    "    x = x.strip() # remove leading and trailing white space\n",
    "    return x\n",
    "\n",
    "# 소문자로 변경,'[' 제거 ,'(' 제거, 특수문자 제거, 띄어쓰기 2번 -> 1번으로 변경 등등"
   ]
  },
  {
   "cell_type": "markdown",
   "metadata": {
    "papermill": {
     "duration": 0.069849,
     "end_time": "2024-06-24T09:06:19.933186",
     "exception": false,
     "start_time": "2024-06-24T09:06:19.863337",
     "status": "completed"
    },
    "tags": []
   },
   "source": [
    "Clean item names."
   ]
  },
  {
   "cell_type": "code",
   "execution_count": 14,
   "metadata": {
    "execution": {
     "iopub.execute_input": "2024-06-24T09:06:20.090693Z",
     "iopub.status.busy": "2024-06-24T09:06:20.089858Z",
     "iopub.status.idle": "2024-06-24T09:06:20.657967Z",
     "shell.execute_reply": "2024-06-24T09:06:20.657142Z",
     "shell.execute_reply.started": "2024-06-24T08:20:35.463833Z"
    },
    "papermill": {
     "duration": 0.653633,
     "end_time": "2024-06-24T09:06:20.658100",
     "exception": false,
     "start_time": "2024-06-24T09:06:20.004467",
     "status": "completed"
    },
    "tags": []
   },
   "outputs": [
    {
     "name": "stderr",
     "output_type": "stream",
     "text": [
      "/opt/conda/lib/python3.7/site-packages/ipykernel_launcher.py:2: FutureWarning: Columnar iteration over characters will be deprecated in future releases.\n",
      "  \n",
      "/opt/conda/lib/python3.7/site-packages/ipykernel_launcher.py:3: FutureWarning: Columnar iteration over characters will be deprecated in future releases.\n",
      "  This is separate from the ipykernel package so we can avoid doing imports until\n"
     ]
    }
   ],
   "source": [
    "# split item names by first bracket\n",
    "items[\"name1\"], items[\"name2\"] = items.item_name.str.split(\"[\", 1).str     # item_name을 '['를 기준으로 name1, name2 에 나눔\n",
    "items[\"name1\"], items[\"name3\"] = items.item_name.str.split(\"(\", 1).str\n",
    "\n",
    "# replace special characters and turn to lower case\n",
    "items[\"name2\"] = items.name2.str.replace('[^A-Za-z0-9А-Яа-я]+', \" \").str.lower()\n",
    "items[\"name3\"] = items.name3.str.replace('[^A-Za-z0-9А-Яа-я]+', \" \").str.lower()\n",
    "\n",
    "# fill nulls with '0' =  결측값 0으로\n",
    "items = items.fillna('0')\n",
    "\n",
    "items[\"item_name\"] = items[\"item_name\"].apply(lambda x: name_correction(x))\n",
    "\n",
    "# return all characters except the last if name 2 is not \"0\" - the closing bracket\n",
    "items.name2 = items.name2.apply( lambda x: x[:-1] if x !=\"0\" else \"0\")"
   ]
  },
  {
   "cell_type": "markdown",
   "metadata": {
    "papermill": {
     "duration": 0.071959,
     "end_time": "2024-06-24T09:06:20.803066",
     "exception": false,
     "start_time": "2024-06-24T09:06:20.731107",
     "status": "completed"
    },
    "tags": []
   },
   "source": [
    "Clean item type"
   ]
  },
  {
   "cell_type": "code",
   "execution_count": 15,
   "metadata": {
    "execution": {
     "iopub.execute_input": "2024-06-24T09:06:20.962097Z",
     "iopub.status.busy": "2024-06-24T09:06:20.961207Z",
     "iopub.status.idle": "2024-06-24T09:06:21.042723Z",
     "shell.execute_reply": "2024-06-24T09:06:21.041839Z",
     "shell.execute_reply.started": "2024-06-24T08:20:35.899809Z"
    },
    "papermill": {
     "duration": 0.167226,
     "end_time": "2024-06-24T09:06:21.042875",
     "exception": false,
     "start_time": "2024-06-24T09:06:20.875649",
     "status": "completed"
    },
    "tags": []
   },
   "outputs": [],
   "source": [
    "items[\"type\"] = items.name2.apply(lambda x: x[0:8] if x.split(\" \")[0] == \"xbox\" else x.split(\" \")[0] )\n",
    "items.loc[(items.type == \"x360\") | (items.type == \"xbox360\") | (items.type == \"xbox 360\") ,\"type\"] = \"xbox 360\"\n",
    "items.loc[ items.type == \"\", \"type\"] = \"mac\"\n",
    "items.type = items.type.apply( lambda x: x.replace(\" \", \"\") )\n",
    "items.loc[ (items.type == 'pc' )| (items.type == 'pс') | (items.type == \"pc\"), \"type\" ] = \"pc\"\n",
    "items.loc[ items.type == 'рs3' , \"type\"] = \"ps3\""
   ]
  },
  {
   "cell_type": "code",
   "execution_count": 16,
   "metadata": {
    "execution": {
     "iopub.execute_input": "2024-06-24T09:06:21.200123Z",
     "iopub.status.busy": "2024-06-24T09:06:21.199312Z",
     "iopub.status.idle": "2024-06-24T09:06:21.245672Z",
     "shell.execute_reply": "2024-06-24T09:06:21.244378Z",
     "shell.execute_reply.started": "2024-06-24T08:20:35.968310Z"
    },
    "papermill": {
     "duration": 0.131713,
     "end_time": "2024-06-24T09:06:21.245881",
     "exception": false,
     "start_time": "2024-06-24T09:06:21.114168",
     "status": "completed"
    },
    "tags": []
   },
   "outputs": [],
   "source": [
    "group_sum = items.groupby([\"type\"]).agg({\"item_id\": \"count\"})\n",
    "group_sum = group_sum.reset_index()\n",
    "drop_cols = []\n",
    "for cat in group_sum.type.unique():\n",
    "    if group_sum.loc[(group_sum.type == cat), \"item_id\"].values[0] <40:\n",
    "        drop_cols.append(cat)\n",
    "items.name2 = items.name2.apply( lambda x: \"other\" if (x in drop_cols) else x )\n",
    "items = items.drop([\"type\"], axis = 1)"
   ]
  },
  {
   "cell_type": "code",
   "execution_count": 17,
   "metadata": {
    "execution": {
     "iopub.execute_input": "2024-06-24T09:06:21.431333Z",
     "iopub.status.busy": "2024-06-24T09:06:21.430312Z",
     "iopub.status.idle": "2024-06-24T09:06:21.475818Z",
     "shell.execute_reply": "2024-06-24T09:06:21.474831Z",
     "shell.execute_reply.started": "2024-06-24T08:20:36.015458Z"
    },
    "papermill": {
     "duration": 0.148516,
     "end_time": "2024-06-24T09:06:21.476020",
     "exception": false,
     "start_time": "2024-06-24T09:06:21.327504",
     "status": "completed"
    },
    "tags": []
   },
   "outputs": [
    {
     "data": {
      "text/html": [
       "<div>\n",
       "<style scoped>\n",
       "    .dataframe tbody tr th:only-of-type {\n",
       "        vertical-align: middle;\n",
       "    }\n",
       "\n",
       "    .dataframe tbody tr th {\n",
       "        vertical-align: top;\n",
       "    }\n",
       "\n",
       "    .dataframe thead th {\n",
       "        text-align: right;\n",
       "    }\n",
       "</style>\n",
       "<table border=\"1\" class=\"dataframe\">\n",
       "  <thead>\n",
       "    <tr style=\"text-align: right;\">\n",
       "      <th></th>\n",
       "      <th>item_id</th>\n",
       "      <th>item_category_id</th>\n",
       "      <th>name2</th>\n",
       "      <th>name3</th>\n",
       "    </tr>\n",
       "  </thead>\n",
       "  <tbody>\n",
       "    <tr>\n",
       "      <th>0</th>\n",
       "      <td>0</td>\n",
       "      <td>40</td>\n",
       "      <td>4</td>\n",
       "      <td>1331</td>\n",
       "    </tr>\n",
       "    <tr>\n",
       "      <th>1</th>\n",
       "      <td>1</td>\n",
       "      <td>76</td>\n",
       "      <td>64</td>\n",
       "      <td>42</td>\n",
       "    </tr>\n",
       "    <tr>\n",
       "      <th>2</th>\n",
       "      <td>2</td>\n",
       "      <td>40</td>\n",
       "      <td>4</td>\n",
       "      <td>1011</td>\n",
       "    </tr>\n",
       "    <tr>\n",
       "      <th>3</th>\n",
       "      <td>3</td>\n",
       "      <td>40</td>\n",
       "      <td>4</td>\n",
       "      <td>1010</td>\n",
       "    </tr>\n",
       "    <tr>\n",
       "      <th>4</th>\n",
       "      <td>4</td>\n",
       "      <td>40</td>\n",
       "      <td>4</td>\n",
       "      <td>1572</td>\n",
       "    </tr>\n",
       "  </tbody>\n",
       "</table>\n",
       "</div>"
      ],
      "text/plain": [
       "   item_id  item_category_id  name2  name3\n",
       "0        0                40      4   1331\n",
       "1        1                76     64     42\n",
       "2        2                40      4   1011\n",
       "3        3                40      4   1010\n",
       "4        4                40      4   1572"
      ]
     },
     "execution_count": 17,
     "metadata": {},
     "output_type": "execute_result"
    }
   ],
   "source": [
    "items.name2 = LabelEncoder().fit_transform(items.name2)\n",
    "items.name3 = LabelEncoder().fit_transform(items.name3)\n",
    "\n",
    "items.drop([\"item_name\", \"name1\"],axis = 1, inplace= True)\n",
    "items.head()"
   ]
  },
  {
   "cell_type": "markdown",
   "metadata": {
    "papermill": {
     "duration": 0.074807,
     "end_time": "2024-06-24T09:06:21.636766",
     "exception": false,
     "start_time": "2024-06-24T09:06:21.561959",
     "status": "completed"
    },
    "tags": []
   },
   "source": [
    "# Preprocessing\n",
    "\n",
    "Create a matrix df with every combination of month, shop and item in order of increasing month. Item_cnt_day is summed into an item_cnt_month."
   ]
  },
  {
   "cell_type": "markdown",
   "metadata": {
    "papermill": {
     "duration": 0.079598,
     "end_time": "2024-06-24T09:06:21.792696",
     "exception": false,
     "start_time": "2024-06-24T09:06:21.713098",
     "status": "completed"
    },
    "tags": []
   },
   "source": [
    "월(34개월)/샵/상품 을 칼럼으로 하는 매트릭스 생성 + 실제 값 삽입"
   ]
  },
  {
   "cell_type": "code",
   "execution_count": 18,
   "metadata": {
    "execution": {
     "iopub.execute_input": "2024-06-24T09:06:21.950342Z",
     "iopub.status.busy": "2024-06-24T09:06:21.944854Z",
     "iopub.status.idle": "2024-06-24T09:06:43.781383Z",
     "shell.execute_reply": "2024-06-24T09:06:43.780663Z",
     "shell.execute_reply.started": "2024-06-24T08:20:36.053532Z"
    },
    "papermill": {
     "duration": 21.917321,
     "end_time": "2024-06-24T09:06:43.781570",
     "exception": false,
     "start_time": "2024-06-24T09:06:21.864249",
     "status": "completed"
    },
    "tags": []
   },
   "outputs": [
    {
     "data": {
      "text/plain": [
       "21.822686195373535"
      ]
     },
     "execution_count": 18,
     "metadata": {},
     "output_type": "execute_result"
    }
   ],
   "source": [
    "from itertools import product\n",
    "import time\n",
    "ts = time.time()    # 시간 측정용\n",
    "matrix = []\n",
    "cols  = [\"date_block_num\", \"shop_id\", \"item_id\"]\n",
    "for i in range(34):\n",
    "    sales = train[train.date_block_num == i]\n",
    "    matrix.append( np.array(list( product( [i], sales.shop_id.unique(), sales.item_id.unique() ) ), dtype = np.int16) )\n",
    "\n",
    "matrix = pd.DataFrame( np.vstack(matrix), columns = cols )\n",
    "matrix[\"date_block_num\"] = matrix[\"date_block_num\"].astype(np.int8)\n",
    "matrix[\"shop_id\"] = matrix[\"shop_id\"].astype(np.int8)                       #메모리 사용 줄일려고 형식 지정\n",
    "matrix[\"item_id\"] = matrix[\"item_id\"].astype(np.int16)\n",
    "matrix.sort_values( cols, inplace = True )\n",
    "time.time()- ts"
   ]
  },
  {
   "cell_type": "markdown",
   "metadata": {
    "papermill": {
     "duration": 0.072355,
     "end_time": "2024-06-24T09:06:43.927849",
     "exception": false,
     "start_time": "2024-06-24T09:06:43.855494",
     "status": "completed"
    },
    "tags": []
   },
   "source": [
    "(수익 =  물건 하루판매량 * 물건 가격)"
   ]
  },
  {
   "cell_type": "code",
   "execution_count": 19,
   "metadata": {
    "execution": {
     "iopub.execute_input": "2024-06-24T09:06:44.134828Z",
     "iopub.status.busy": "2024-06-24T09:06:44.133975Z",
     "iopub.status.idle": "2024-06-24T09:06:44.172049Z",
     "shell.execute_reply": "2024-06-24T09:06:44.171208Z",
     "shell.execute_reply.started": "2024-06-24T08:20:49.493657Z"
    },
    "papermill": {
     "duration": 0.170675,
     "end_time": "2024-06-24T09:06:44.172185",
     "exception": false,
     "start_time": "2024-06-24T09:06:44.001510",
     "status": "completed"
    },
    "tags": []
   },
   "outputs": [],
   "source": [
    "# add revenue to train df\n",
    "train[\"revenue\"] = train[\"item_cnt_day\"] * train[\"item_price\"]"
   ]
  },
  {
   "cell_type": "markdown",
   "metadata": {
    "papermill": {
     "duration": 0.072963,
     "end_time": "2024-06-24T09:06:44.318226",
     "exception": false,
     "start_time": "2024-06-24T09:06:44.245263",
     "status": "completed"
    },
    "tags": []
   },
   "source": [
    "[\"date_block_num\", \"shop_id\", \"item_id\"] 을 그룹화하고 item_cnt_day 값을 더해서 item_cnt_month을 추가함"
   ]
  },
  {
   "cell_type": "code",
   "execution_count": 20,
   "metadata": {
    "execution": {
     "iopub.execute_input": "2024-06-24T09:06:44.475795Z",
     "iopub.status.busy": "2024-06-24T09:06:44.474875Z",
     "iopub.status.idle": "2024-06-24T09:06:50.316237Z",
     "shell.execute_reply": "2024-06-24T09:06:50.315490Z",
     "shell.execute_reply.started": "2024-06-24T08:20:49.533128Z"
    },
    "papermill": {
     "duration": 5.925891,
     "end_time": "2024-06-24T09:06:50.316386",
     "exception": false,
     "start_time": "2024-06-24T09:06:44.390495",
     "status": "completed"
    },
    "tags": []
   },
   "outputs": [
    {
     "data": {
      "text/plain": [
       "5.835492372512817"
      ]
     },
     "execution_count": 20,
     "metadata": {},
     "output_type": "execute_result"
    }
   ],
   "source": [
    "ts = time.time()\n",
    "group = train.groupby( [\"date_block_num\", \"shop_id\", \"item_id\"] ).agg( {\"item_cnt_day\": [\"sum\"]} )\n",
    "\n",
    "\n",
    "group.columns = [\"item_cnt_month\"]\n",
    "group.reset_index( inplace = True)\n",
    "matrix = pd.merge( matrix, group, on = cols, how = \"left\" )\n",
    "matrix[\"item_cnt_month\"] = matrix[\"item_cnt_month\"].fillna(0).astype(np.float16)\n",
    "time.time() - ts"
   ]
  },
  {
   "cell_type": "markdown",
   "metadata": {
    "papermill": {
     "duration": 0.072588,
     "end_time": "2024-06-24T09:06:50.467423",
     "exception": false,
     "start_time": "2024-06-24T09:06:50.394835",
     "status": "completed"
    },
    "tags": []
   },
   "source": [
    "Create a test set for month 34.\n",
    "\n",
    "test셋의 date_block_num 열을 추가하고 모든 값을 34로 설정 , 타입 지정"
   ]
  },
  {
   "cell_type": "code",
   "execution_count": 21,
   "metadata": {
    "execution": {
     "iopub.execute_input": "2024-06-24T09:06:50.641810Z",
     "iopub.status.busy": "2024-06-24T09:06:50.640814Z",
     "iopub.status.idle": "2024-06-24T09:06:50.649659Z",
     "shell.execute_reply": "2024-06-24T09:06:50.648846Z",
     "shell.execute_reply.started": "2024-06-24T08:20:55.176503Z"
    },
    "papermill": {
     "duration": 0.103994,
     "end_time": "2024-06-24T09:06:50.649802",
     "exception": false,
     "start_time": "2024-06-24T09:06:50.545808",
     "status": "completed"
    },
    "tags": []
   },
   "outputs": [],
   "source": [
    "test[\"date_block_num\"] = 34\n",
    "test[\"date_block_num\"] = test[\"date_block_num\"].astype(np.int8)\n",
    "test[\"shop_id\"] = test.shop_id.astype(np.int8)\n",
    "test[\"item_id\"] = test.item_id.astype(np.int16)"
   ]
  },
  {
   "cell_type": "markdown",
   "metadata": {
    "papermill": {
     "duration": 0.072647,
     "end_time": "2024-06-24T09:06:50.795375",
     "exception": false,
     "start_time": "2024-06-24T09:06:50.722728",
     "status": "completed"
    },
    "tags": []
   },
   "source": [
    "Concatenate train and test sets."
   ]
  },
  {
   "cell_type": "code",
   "execution_count": 22,
   "metadata": {
    "execution": {
     "iopub.execute_input": "2024-06-24T09:06:50.949171Z",
     "iopub.status.busy": "2024-06-24T09:06:50.948128Z",
     "iopub.status.idle": "2024-06-24T09:06:51.013064Z",
     "shell.execute_reply": "2024-06-24T09:06:51.012268Z",
     "shell.execute_reply.started": "2024-06-24T08:20:55.189780Z"
    },
    "papermill": {
     "duration": 0.145288,
     "end_time": "2024-06-24T09:06:51.013201",
     "exception": false,
     "start_time": "2024-06-24T09:06:50.867913",
     "status": "completed"
    },
    "tags": []
   },
   "outputs": [
    {
     "data": {
      "text/plain": [
       "0.05966448783874512"
      ]
     },
     "execution_count": 22,
     "metadata": {},
     "output_type": "execute_result"
    }
   ],
   "source": [
    "ts = time.time()\n",
    "\n",
    "matrix = pd.concat([matrix, test.drop([\"ID\"],axis = 1)], ignore_index=True, sort=False, keys=cols)\n",
    "matrix.fillna( 0, inplace = True )\n",
    "time.time() - ts"
   ]
  },
  {
   "cell_type": "markdown",
   "metadata": {
    "papermill": {
     "duration": 0.073395,
     "end_time": "2024-06-24T09:06:51.159956",
     "exception": false,
     "start_time": "2024-06-24T09:06:51.086561",
     "status": "completed"
    },
    "tags": []
   },
   "source": [
    "Add shop, items and categories data onto matrix df.\n",
    "메트릭스에 왼쪽병합 방식으로 데이터 추가"
   ]
  },
  {
   "cell_type": "code",
   "execution_count": 23,
   "metadata": {
    "_cell_guid": "79c7e3d0-c299-4dcb-8224-4455121ee9b0",
    "_uuid": "d629ff2d2480ee46fbb7e2d37f6b5fab8052498a",
    "execution": {
     "iopub.execute_input": "2024-06-24T09:06:51.322925Z",
     "iopub.status.busy": "2024-06-24T09:06:51.317245Z",
     "iopub.status.idle": "2024-06-24T09:06:55.832923Z",
     "shell.execute_reply": "2024-06-24T09:06:55.832119Z",
     "shell.execute_reply.started": "2024-06-24T08:20:55.276040Z"
    },
    "papermill": {
     "duration": 4.598844,
     "end_time": "2024-06-24T09:06:55.833089",
     "exception": false,
     "start_time": "2024-06-24T09:06:51.234245",
     "status": "completed"
    },
    "tags": []
   },
   "outputs": [
    {
     "data": {
      "text/plain": [
       "4.5050718784332275"
      ]
     },
     "execution_count": 23,
     "metadata": {},
     "output_type": "execute_result"
    }
   ],
   "source": [
    "ts = time.time()\n",
    "matrix = pd.merge( matrix, shops, on = [\"shop_id\"], how = \"left\" )\n",
    "matrix = pd.merge(matrix, items, on = [\"item_id\"], how = \"left\")\n",
    "matrix = pd.merge( matrix, cats, on = [\"item_category_id\"], how = \"left\" )\n",
    "matrix[\"shop_city\"] = matrix[\"shop_city\"].astype(np.int8)\n",
    "matrix[\"shop_category\"] = matrix[\"shop_category\"].astype(np.int8)\n",
    "matrix[\"item_category_id\"] = matrix[\"item_category_id\"].astype(np.int8)\n",
    "matrix[\"subtype_code\"] = matrix[\"subtype_code\"].astype(np.int8)\n",
    "matrix[\"name2\"] = matrix[\"name2\"].astype(np.int8)\n",
    "matrix[\"name3\"] = matrix[\"name3\"].astype(np.int16)\n",
    "matrix[\"type_code\"] = matrix[\"type_code\"].astype(np.int8)\n",
    "time.time() - ts"
   ]
  },
  {
   "cell_type": "markdown",
   "metadata": {
    "papermill": {
     "duration": 0.073303,
     "end_time": "2024-06-24T09:06:55.981118",
     "exception": false,
     "start_time": "2024-06-24T09:06:55.907815",
     "status": "completed"
    },
    "tags": []
   },
   "source": [
    "Feature Engineering\n",
    "\n",
    "* Add lag features to matrix df.\n",
    "\n",
    "시차특성"
   ]
  },
  {
   "cell_type": "code",
   "execution_count": 24,
   "metadata": {
    "execution": {
     "iopub.execute_input": "2024-06-24T09:06:56.139766Z",
     "iopub.status.busy": "2024-06-24T09:06:56.138687Z",
     "iopub.status.idle": "2024-06-24T09:06:56.141485Z",
     "shell.execute_reply": "2024-06-24T09:06:56.142322Z",
     "shell.execute_reply.started": "2024-06-24T08:20:59.677358Z"
    },
    "papermill": {
     "duration": 0.087953,
     "end_time": "2024-06-24T09:06:56.142500",
     "exception": false,
     "start_time": "2024-06-24T09:06:56.054547",
     "status": "completed"
    },
    "tags": []
   },
   "outputs": [],
   "source": [
    "# Define a lag feature function\n",
    "def lag_feature( df,lags, cols ):\n",
    "    for col in cols:\n",
    "        print(col)\n",
    "        tmp = df[[\"date_block_num\", \"shop_id\",\"item_id\",col ]]\n",
    "        for i in lags:\n",
    "            shifted = tmp.copy()\n",
    "            shifted.columns = [\"date_block_num\", \"shop_id\", \"item_id\", col + \"_lag_\"+str(i)]\n",
    "            shifted.date_block_num = shifted.date_block_num + i\n",
    "            df = pd.merge(df, shifted, on=['date_block_num','shop_id','item_id'], how='left')\n",
    "    return df"
   ]
  },
  {
   "cell_type": "markdown",
   "metadata": {
    "papermill": {
     "duration": 0.075636,
     "end_time": "2024-06-24T09:06:56.292769",
     "exception": false,
     "start_time": "2024-06-24T09:06:56.217133",
     "status": "completed"
    },
    "tags": []
   },
   "source": [
    "Add item_cnt_month lag features."
   ]
  },
  {
   "cell_type": "code",
   "execution_count": 25,
   "metadata": {
    "execution": {
     "iopub.execute_input": "2024-06-24T09:06:56.448479Z",
     "iopub.status.busy": "2024-06-24T09:06:56.447552Z",
     "iopub.status.idle": "2024-06-24T09:07:19.080932Z",
     "shell.execute_reply": "2024-06-24T09:07:19.080242Z",
     "shell.execute_reply.started": "2024-06-24T08:20:59.687259Z"
    },
    "papermill": {
     "duration": 22.714877,
     "end_time": "2024-06-24T09:07:19.081084",
     "exception": false,
     "start_time": "2024-06-24T09:06:56.366207",
     "status": "completed"
    },
    "tags": []
   },
   "outputs": [
    {
     "name": "stdout",
     "output_type": "stream",
     "text": [
      "item_cnt_month\n"
     ]
    },
    {
     "data": {
      "text/plain": [
       "22.62934374809265"
      ]
     },
     "execution_count": 25,
     "metadata": {},
     "output_type": "execute_result"
    }
   ],
   "source": [
    "ts = time.time()\n",
    "matrix = lag_feature( matrix, [1,2,3], [\"item_cnt_month\"] )\n",
    "time.time() - ts"
   ]
  },
  {
   "cell_type": "markdown",
   "metadata": {
    "papermill": {
     "duration": 0.073869,
     "end_time": "2024-06-24T09:07:19.229246",
     "exception": false,
     "start_time": "2024-06-24T09:07:19.155377",
     "status": "completed"
    },
    "tags": []
   },
   "source": [
    "Add the previous month's average item_cnt."
   ]
  },
  {
   "cell_type": "code",
   "execution_count": 26,
   "metadata": {
    "execution": {
     "iopub.execute_input": "2024-06-24T09:07:19.392357Z",
     "iopub.status.busy": "2024-06-24T09:07:19.391488Z",
     "iopub.status.idle": "2024-06-24T09:07:31.587906Z",
     "shell.execute_reply": "2024-06-24T09:07:31.587165Z",
     "shell.execute_reply.started": "2024-06-24T08:21:21.784811Z"
    },
    "papermill": {
     "duration": 12.282388,
     "end_time": "2024-06-24T09:07:31.588045",
     "exception": false,
     "start_time": "2024-06-24T09:07:19.305657",
     "status": "completed"
    },
    "tags": []
   },
   "outputs": [
    {
     "name": "stdout",
     "output_type": "stream",
     "text": [
      "date_avg_item_cnt\n"
     ]
    },
    {
     "data": {
      "text/plain": [
       "12.191055059432983"
      ]
     },
     "execution_count": 26,
     "metadata": {},
     "output_type": "execute_result"
    }
   ],
   "source": [
    "ts = time.time()\n",
    "group = matrix.groupby( [\"date_block_num\"] ).agg({\"item_cnt_month\" : [\"mean\"]})\n",
    "group.columns = [\"date_avg_item_cnt\"]\n",
    "group.reset_index(inplace = True)\n",
    "\n",
    "matrix = pd.merge(matrix, group, on = [\"date_block_num\"], how = \"left\")\n",
    "matrix.date_avg_item_cnt = matrix[\"date_avg_item_cnt\"].astype(np.float16)\n",
    "matrix = lag_feature( matrix, [1], [\"date_avg_item_cnt\"] )\n",
    "matrix.drop( [\"date_avg_item_cnt\"], axis = 1, inplace = True )\n",
    "time.time() - ts"
   ]
  },
  {
   "cell_type": "markdown",
   "metadata": {
    "papermill": {
     "duration": 0.077654,
     "end_time": "2024-06-24T09:07:31.742359",
     "exception": false,
     "start_time": "2024-06-24T09:07:31.664705",
     "status": "completed"
    },
    "tags": []
   },
   "source": [
    "Add lag values of item_cnt_month for month / item_id."
   ]
  },
  {
   "cell_type": "code",
   "execution_count": 27,
   "metadata": {
    "execution": {
     "iopub.execute_input": "2024-06-24T09:07:31.903593Z",
     "iopub.status.busy": "2024-06-24T09:07:31.902785Z",
     "iopub.status.idle": "2024-06-24T09:08:01.105388Z",
     "shell.execute_reply": "2024-06-24T09:08:01.104564Z",
     "shell.execute_reply.started": "2024-06-24T08:21:34.285584Z"
    },
    "papermill": {
     "duration": 29.287909,
     "end_time": "2024-06-24T09:08:01.105539",
     "exception": false,
     "start_time": "2024-06-24T09:07:31.817630",
     "status": "completed"
    },
    "tags": []
   },
   "outputs": [
    {
     "name": "stdout",
     "output_type": "stream",
     "text": [
      "date_item_avg_item_cnt\n"
     ]
    },
    {
     "data": {
      "text/plain": [
       "29.196857929229736"
      ]
     },
     "execution_count": 27,
     "metadata": {},
     "output_type": "execute_result"
    }
   ],
   "source": [
    "ts = time.time()\n",
    "group = matrix.groupby(['date_block_num', 'item_id']).agg({'item_cnt_month': ['mean']})\n",
    "group.columns = [ 'date_item_avg_item_cnt' ]\n",
    "group.reset_index(inplace=True)\n",
    "\n",
    "matrix = pd.merge(matrix, group, on=['date_block_num','item_id'], how='left')\n",
    "matrix.date_item_avg_item_cnt = matrix['date_item_avg_item_cnt'].astype(np.float16)\n",
    "matrix = lag_feature(matrix, [1,2,3], ['date_item_avg_item_cnt'])\n",
    "matrix.drop(['date_item_avg_item_cnt'], axis=1, inplace=True)\n",
    "time.time() - ts"
   ]
  },
  {
   "cell_type": "markdown",
   "metadata": {
    "papermill": {
     "duration": 0.077921,
     "end_time": "2024-06-24T09:08:01.261576",
     "exception": false,
     "start_time": "2024-06-24T09:08:01.183655",
     "status": "completed"
    },
    "tags": []
   },
   "source": [
    "Add lag values for item_cnt_month for every month / shop combination."
   ]
  },
  {
   "cell_type": "code",
   "execution_count": 28,
   "metadata": {
    "execution": {
     "iopub.execute_input": "2024-06-24T09:08:01.427017Z",
     "iopub.status.busy": "2024-06-24T09:08:01.426176Z",
     "iopub.status.idle": "2024-06-24T09:08:31.308912Z",
     "shell.execute_reply": "2024-06-24T09:08:31.308144Z",
     "shell.execute_reply.started": "2024-06-24T08:22:03.516708Z"
    },
    "papermill": {
     "duration": 29.969275,
     "end_time": "2024-06-24T09:08:31.309063",
     "exception": false,
     "start_time": "2024-06-24T09:08:01.339788",
     "status": "completed"
    },
    "tags": []
   },
   "outputs": [
    {
     "name": "stderr",
     "output_type": "stream",
     "text": [
      "/opt/conda/lib/python3.7/site-packages/ipykernel_launcher.py:7: UserWarning: Pandas doesn't allow columns to be created via a new attribute name - see https://pandas.pydata.org/pandas-docs/stable/indexing.html#attribute-access\n",
      "  import sys\n"
     ]
    },
    {
     "name": "stdout",
     "output_type": "stream",
     "text": [
      "date_shop_avg_item_cnt\n"
     ]
    },
    {
     "data": {
      "text/plain": [
       "29.87630820274353"
      ]
     },
     "execution_count": 28,
     "metadata": {},
     "output_type": "execute_result"
    }
   ],
   "source": [
    "ts = time.time()\n",
    "group = matrix.groupby( [\"date_block_num\",\"shop_id\"] ).agg({\"item_cnt_month\" : [\"mean\"]})\n",
    "group.columns = [\"date_shop_avg_item_cnt\"]\n",
    "group.reset_index(inplace = True)\n",
    "\n",
    "matrix = pd.merge(matrix, group, on = [\"date_block_num\",\"shop_id\"], how = \"left\")\n",
    "matrix.date_avg_item_cnt = matrix[\"date_shop_avg_item_cnt\"].astype(np.float16)\n",
    "matrix = lag_feature( matrix, [1,2,3], [\"date_shop_avg_item_cnt\"] )\n",
    "matrix.drop( [\"date_shop_avg_item_cnt\"], axis = 1, inplace = True )\n",
    "time.time() - ts"
   ]
  },
  {
   "cell_type": "markdown",
   "metadata": {
    "papermill": {
     "duration": 0.079313,
     "end_time": "2024-06-24T09:08:31.466621",
     "exception": false,
     "start_time": "2024-06-24T09:08:31.387308",
     "status": "completed"
    },
    "tags": []
   },
   "source": [
    "Add lag values for item_cnt_month for month/shop/item."
   ]
  },
  {
   "cell_type": "code",
   "execution_count": 29,
   "metadata": {
    "execution": {
     "iopub.execute_input": "2024-06-24T09:08:31.637725Z",
     "iopub.status.busy": "2024-06-24T09:08:31.636945Z",
     "iopub.status.idle": "2024-06-24T09:09:16.186639Z",
     "shell.execute_reply": "2024-06-24T09:09:16.187321Z",
     "shell.execute_reply.started": "2024-06-24T08:22:33.373738Z"
    },
    "papermill": {
     "duration": 44.63924,
     "end_time": "2024-06-24T09:09:16.187508",
     "exception": false,
     "start_time": "2024-06-24T09:08:31.548268",
     "status": "completed"
    },
    "tags": []
   },
   "outputs": [
    {
     "name": "stderr",
     "output_type": "stream",
     "text": [
      "/opt/conda/lib/python3.7/site-packages/ipykernel_launcher.py:7: UserWarning: Pandas doesn't allow columns to be created via a new attribute name - see https://pandas.pydata.org/pandas-docs/stable/indexing.html#attribute-access\n",
      "  import sys\n"
     ]
    },
    {
     "name": "stdout",
     "output_type": "stream",
     "text": [
      "date_shop_item_avg_item_cnt\n"
     ]
    },
    {
     "data": {
      "text/plain": [
       "44.46511387825012"
      ]
     },
     "execution_count": 29,
     "metadata": {},
     "output_type": "execute_result"
    }
   ],
   "source": [
    "ts = time.time()\n",
    "group = matrix.groupby( [\"date_block_num\",\"shop_id\",\"item_id\"] ).agg({\"item_cnt_month\" : [\"mean\"]})\n",
    "group.columns = [\"date_shop_item_avg_item_cnt\"]\n",
    "group.reset_index(inplace = True)\n",
    "\n",
    "matrix = pd.merge(matrix, group, on = [\"date_block_num\",\"shop_id\",\"item_id\"], how = \"left\")\n",
    "matrix.date_avg_item_cnt = matrix[\"date_shop_item_avg_item_cnt\"].astype(np.float16)\n",
    "matrix = lag_feature( matrix, [1,2,3], [\"date_shop_item_avg_item_cnt\"] )\n",
    "matrix.drop( [\"date_shop_item_avg_item_cnt\"], axis = 1, inplace = True )\n",
    "time.time() - ts"
   ]
  },
  {
   "cell_type": "markdown",
   "metadata": {
    "papermill": {
     "duration": 0.080745,
     "end_time": "2024-06-24T09:09:16.347237",
     "exception": false,
     "start_time": "2024-06-24T09:09:16.266492",
     "status": "completed"
    },
    "tags": []
   },
   "source": [
    "Add lag values for item_cnt_month for month/shop/item subtype."
   ]
  },
  {
   "cell_type": "code",
   "execution_count": 30,
   "metadata": {
    "execution": {
     "iopub.execute_input": "2024-06-24T09:09:16.518592Z",
     "iopub.status.busy": "2024-06-24T09:09:16.517143Z",
     "iopub.status.idle": "2024-06-24T09:09:33.890382Z",
     "shell.execute_reply": "2024-06-24T09:09:33.889641Z",
     "shell.execute_reply.started": "2024-06-24T08:23:15.964372Z"
    },
    "papermill": {
     "duration": 17.463318,
     "end_time": "2024-06-24T09:09:33.890509",
     "exception": false,
     "start_time": "2024-06-24T09:09:16.427191",
     "status": "completed"
    },
    "tags": []
   },
   "outputs": [
    {
     "name": "stdout",
     "output_type": "stream",
     "text": [
      "date_shop_subtype_avg_item_cnt\n"
     ]
    },
    {
     "data": {
      "text/plain": [
       "17.36593508720398"
      ]
     },
     "execution_count": 30,
     "metadata": {},
     "output_type": "execute_result"
    }
   ],
   "source": [
    "ts = time.time()\n",
    "group = matrix.groupby(['date_block_num', 'shop_id', 'subtype_code']).agg({'item_cnt_month': ['mean']})\n",
    "group.columns = ['date_shop_subtype_avg_item_cnt']\n",
    "group.reset_index(inplace=True)\n",
    "\n",
    "matrix = pd.merge(matrix, group, on=['date_block_num', 'shop_id', 'subtype_code'], how='left')\n",
    "matrix.date_shop_subtype_avg_item_cnt = matrix['date_shop_subtype_avg_item_cnt'].astype(np.float16)\n",
    "matrix = lag_feature(matrix, [1], ['date_shop_subtype_avg_item_cnt'])\n",
    "matrix.drop(['date_shop_subtype_avg_item_cnt'], axis=1, inplace=True)\n",
    "time.time() - ts"
   ]
  },
  {
   "cell_type": "markdown",
   "metadata": {
    "papermill": {
     "duration": 0.078396,
     "end_time": "2024-06-24T09:09:34.047774",
     "exception": false,
     "start_time": "2024-06-24T09:09:33.969378",
     "status": "completed"
    },
    "tags": []
   },
   "source": [
    "Add lag values for item_cnt_month for month/city."
   ]
  },
  {
   "cell_type": "code",
   "execution_count": 31,
   "metadata": {
    "execution": {
     "iopub.execute_input": "2024-06-24T09:09:34.216286Z",
     "iopub.status.busy": "2024-06-24T09:09:34.215143Z",
     "iopub.status.idle": "2024-06-24T09:09:51.896153Z",
     "shell.execute_reply": "2024-06-24T09:09:51.895407Z",
     "shell.execute_reply.started": "2024-06-24T08:23:33.052746Z"
    },
    "papermill": {
     "duration": 17.770104,
     "end_time": "2024-06-24T09:09:51.896289",
     "exception": false,
     "start_time": "2024-06-24T09:09:34.126185",
     "status": "completed"
    },
    "tags": []
   },
   "outputs": [
    {
     "name": "stdout",
     "output_type": "stream",
     "text": [
      "date_city_avg_item_cnt\n"
     ]
    },
    {
     "data": {
      "text/plain": [
       "17.67521905899048"
      ]
     },
     "execution_count": 31,
     "metadata": {},
     "output_type": "execute_result"
    }
   ],
   "source": [
    "ts = time.time()\n",
    "group = matrix.groupby(['date_block_num', 'shop_city']).agg({'item_cnt_month': ['mean']})\n",
    "group.columns = ['date_city_avg_item_cnt']\n",
    "group.reset_index(inplace=True)\n",
    "\n",
    "matrix = pd.merge(matrix, group, on=['date_block_num', \"shop_city\"], how='left')\n",
    "matrix.date_city_avg_item_cnt = matrix['date_city_avg_item_cnt'].astype(np.float16)\n",
    "matrix = lag_feature(matrix, [1], ['date_city_avg_item_cnt'])\n",
    "matrix.drop(['date_city_avg_item_cnt'], axis=1, inplace=True)\n",
    "time.time() - ts"
   ]
  },
  {
   "cell_type": "markdown",
   "metadata": {
    "papermill": {
     "duration": 0.079801,
     "end_time": "2024-06-24T09:09:52.056969",
     "exception": false,
     "start_time": "2024-06-24T09:09:51.977168",
     "status": "completed"
    },
    "tags": []
   },
   "source": [
    "Add lag values for item_cnt_month for month/city/item."
   ]
  },
  {
   "cell_type": "code",
   "execution_count": 32,
   "metadata": {
    "execution": {
     "iopub.execute_input": "2024-06-24T09:09:52.228458Z",
     "iopub.status.busy": "2024-06-24T09:09:52.227330Z",
     "iopub.status.idle": "2024-06-24T09:10:19.150939Z",
     "shell.execute_reply": "2024-06-24T09:10:19.151489Z",
     "shell.execute_reply.started": "2024-06-24T08:23:50.475034Z"
    },
    "papermill": {
     "duration": 27.014616,
     "end_time": "2024-06-24T09:10:19.151685",
     "exception": false,
     "start_time": "2024-06-24T09:09:52.137069",
     "status": "completed"
    },
    "tags": []
   },
   "outputs": [
    {
     "name": "stdout",
     "output_type": "stream",
     "text": [
      "date_item_city_avg_item_cnt\n"
     ]
    },
    {
     "data": {
      "text/plain": [
       "26.918832302093506"
      ]
     },
     "execution_count": 32,
     "metadata": {},
     "output_type": "execute_result"
    }
   ],
   "source": [
    "ts = time.time()\n",
    "group = matrix.groupby(['date_block_num', 'item_id', 'shop_city']).agg({'item_cnt_month': ['mean']})\n",
    "group.columns = [ 'date_item_city_avg_item_cnt' ]\n",
    "group.reset_index(inplace=True)\n",
    "\n",
    "matrix = pd.merge(matrix, group, on=['date_block_num', 'item_id', 'shop_city'], how='left')\n",
    "matrix.date_item_city_avg_item_cnt = matrix['date_item_city_avg_item_cnt'].astype(np.float16)\n",
    "matrix = lag_feature(matrix, [1], ['date_item_city_avg_item_cnt'])\n",
    "matrix.drop(['date_item_city_avg_item_cnt'], axis=1, inplace=True)\n",
    "time.time() - ts"
   ]
  },
  {
   "cell_type": "markdown",
   "metadata": {
    "papermill": {
     "duration": 0.080915,
     "end_time": "2024-06-24T09:10:19.313064",
     "exception": false,
     "start_time": "2024-06-24T09:10:19.232149",
     "status": "completed"
    },
    "tags": []
   },
   "source": [
    "* Add average item price on to matix df. \n",
    "* Add lag values of item price per month.\n",
    "* Add delta price values - how current month average pirce relates to global average."
   ]
  },
  {
   "cell_type": "code",
   "execution_count": 33,
   "metadata": {
    "execution": {
     "iopub.execute_input": "2024-06-24T09:10:19.499005Z",
     "iopub.status.busy": "2024-06-24T09:10:19.498164Z",
     "iopub.status.idle": "2024-06-24T09:19:22.809334Z",
     "shell.execute_reply": "2024-06-24T09:19:22.809977Z",
     "shell.execute_reply.started": "2024-06-24T08:24:16.562048Z"
    },
    "papermill": {
     "duration": 543.414731,
     "end_time": "2024-06-24T09:19:22.810160",
     "exception": false,
     "start_time": "2024-06-24T09:10:19.395429",
     "status": "completed"
    },
    "tags": []
   },
   "outputs": [
    {
     "name": "stdout",
     "output_type": "stream",
     "text": [
      "date_item_avg_item_price\n"
     ]
    },
    {
     "data": {
      "text/plain": [
       "543.2193903923035"
      ]
     },
     "execution_count": 33,
     "metadata": {},
     "output_type": "execute_result"
    }
   ],
   "source": [
    "ts = time.time()\n",
    "group = train.groupby( [\"item_id\"] ).agg({\"item_price\": [\"mean\"]})\n",
    "group.columns = [\"item_avg_item_price\"]\n",
    "group.reset_index(inplace = True)\n",
    "\n",
    "matrix = matrix.merge( group, on = [\"item_id\"], how = \"left\" )\n",
    "matrix[\"item_avg_item_price\"] = matrix.item_avg_item_price.astype(np.float16)\n",
    "\n",
    "\n",
    "group = train.groupby( [\"date_block_num\",\"item_id\"] ).agg( {\"item_price\": [\"mean\"]} )\n",
    "group.columns = [\"date_item_avg_item_price\"]\n",
    "group.reset_index(inplace = True)\n",
    "\n",
    "matrix = matrix.merge(group, on = [\"date_block_num\",\"item_id\"], how = \"left\")\n",
    "matrix[\"date_item_avg_item_price\"] = matrix.date_item_avg_item_price.astype(np.float16)\n",
    "lags = [1, 2, 3]\n",
    "matrix = lag_feature( matrix, lags, [\"date_item_avg_item_price\"] )\n",
    "for i in lags:\n",
    "    matrix[\"delta_price_lag_\" + str(i) ] = (matrix[\"date_item_avg_item_price_lag_\" + str(i)]- matrix[\"item_avg_item_price\"] )/ matrix[\"item_avg_item_price\"]\n",
    "\n",
    "def select_trends(row) :\n",
    "    for i in lags:\n",
    "        if row[\"delta_price_lag_\" + str(i)]:\n",
    "            return row[\"delta_price_lag_\" + str(i)]\n",
    "    return 0\n",
    "\n",
    "matrix[\"delta_price_lag\"] = matrix.apply(select_trends, axis = 1)\n",
    "matrix[\"delta_price_lag\"] = matrix.delta_price_lag.astype( np.float16 )\n",
    "matrix[\"delta_price_lag\"].fillna( 0 ,inplace = True)\n",
    "\n",
    "features_to_drop = [\"item_avg_item_price\", \"date_item_avg_item_price\"]\n",
    "for i in lags:\n",
    "    features_to_drop.append(\"date_item_avg_item_price_lag_\" + str(i) )\n",
    "    features_to_drop.append(\"delta_price_lag_\" + str(i) )\n",
    "matrix.drop(features_to_drop, axis = 1, inplace = True)\n",
    "time.time() - ts"
   ]
  },
  {
   "cell_type": "markdown",
   "metadata": {
    "papermill": {
     "duration": 0.082629,
     "end_time": "2024-06-24T09:19:22.976102",
     "exception": false,
     "start_time": "2024-06-24T09:19:22.893473",
     "status": "completed"
    },
    "tags": []
   },
   "source": [
    "* Add total shop revenue per month to matix df. \n",
    "* Add lag values of revenue per month.\n",
    "* Add delta revenue values - how current month revenue relates to global average."
   ]
  },
  {
   "cell_type": "code",
   "execution_count": 34,
   "metadata": {
    "execution": {
     "iopub.execute_input": "2024-06-24T09:19:23.155998Z",
     "iopub.status.busy": "2024-06-24T09:19:23.155152Z",
     "iopub.status.idle": "2024-06-24T09:19:43.233093Z",
     "shell.execute_reply": "2024-06-24T09:19:43.232426Z",
     "shell.execute_reply.started": "2024-06-24T08:30:55.985195Z"
    },
    "papermill": {
     "duration": 20.1753,
     "end_time": "2024-06-24T09:19:43.233245",
     "exception": false,
     "start_time": "2024-06-24T09:19:23.057945",
     "status": "completed"
    },
    "tags": []
   },
   "outputs": [
    {
     "name": "stdout",
     "output_type": "stream",
     "text": [
      "delta_revenue\n"
     ]
    },
    {
     "data": {
      "text/plain": [
       "20.070984363555908"
      ]
     },
     "execution_count": 34,
     "metadata": {},
     "output_type": "execute_result"
    }
   ],
   "source": [
    "ts = time.time()\n",
    "group = train.groupby( [\"date_block_num\",\"shop_id\"] ).agg({\"revenue\": [\"sum\"] })\n",
    "group.columns = [\"date_shop_revenue\"]\n",
    "group.reset_index(inplace = True)\n",
    "\n",
    "matrix = matrix.merge( group , on = [\"date_block_num\", \"shop_id\"], how = \"left\" )\n",
    "matrix['date_shop_revenue'] = matrix['date_shop_revenue'].astype(np.float32)\n",
    "\n",
    "group = group.groupby([\"shop_id\"]).agg({ \"date_block_num\":[\"mean\"] })\n",
    "group.columns = [\"shop_avg_revenue\"]\n",
    "group.reset_index(inplace = True )\n",
    "\n",
    "matrix = matrix.merge( group, on = [\"shop_id\"], how = \"left\" )\n",
    "matrix[\"shop_avg_revenue\"] = matrix.shop_avg_revenue.astype(np.float32)\n",
    "matrix[\"delta_revenue\"] = (matrix['date_shop_revenue'] - matrix['shop_avg_revenue']) / matrix['shop_avg_revenue']\n",
    "matrix[\"delta_revenue\"] = matrix[\"delta_revenue\"]. astype(np.float32)\n",
    "\n",
    "matrix = lag_feature(matrix, [1], [\"delta_revenue\"])\n",
    "matrix[\"delta_revenue_lag_1\"] = matrix[\"delta_revenue_lag_1\"].astype(np.float32)\n",
    "matrix.drop( [\"date_shop_revenue\", \"shop_avg_revenue\", \"delta_revenue\"] ,axis = 1, inplace = True)\n",
    "time.time() - ts"
   ]
  },
  {
   "cell_type": "markdown",
   "metadata": {
    "papermill": {
     "duration": 0.084038,
     "end_time": "2024-06-24T09:19:43.402117",
     "exception": false,
     "start_time": "2024-06-24T09:19:43.318079",
     "status": "completed"
    },
    "tags": []
   },
   "source": [
    "Add month and number of days in each month to matrix df."
   ]
  },
  {
   "cell_type": "code",
   "execution_count": 35,
   "metadata": {
    "execution": {
     "iopub.execute_input": "2024-06-24T09:19:43.579253Z",
     "iopub.status.busy": "2024-06-24T09:19:43.578395Z",
     "iopub.status.idle": "2024-06-24T09:19:43.819790Z",
     "shell.execute_reply": "2024-06-24T09:19:43.819125Z",
     "shell.execute_reply.started": "2024-06-24T08:31:15.887439Z"
    },
    "papermill": {
     "duration": 0.333687,
     "end_time": "2024-06-24T09:19:43.819943",
     "exception": false,
     "start_time": "2024-06-24T09:19:43.486256",
     "status": "completed"
    },
    "tags": []
   },
   "outputs": [],
   "source": [
    "matrix[\"month\"] = matrix[\"date_block_num\"] % 12\n",
    "days = pd.Series([31,28,31,30,31,30,31,31,30,31,30,31])\n",
    "matrix[\"days\"] = matrix[\"month\"].map(days).astype(np.int8)"
   ]
  },
  {
   "cell_type": "markdown",
   "metadata": {
    "papermill": {
     "duration": 0.082308,
     "end_time": "2024-06-24T09:19:43.984806",
     "exception": false,
     "start_time": "2024-06-24T09:19:43.902498",
     "status": "completed"
    },
    "tags": []
   },
   "source": [
    "Add the month of each shop and item first sale."
   ]
  },
  {
   "cell_type": "code",
   "execution_count": 36,
   "metadata": {
    "execution": {
     "iopub.execute_input": "2024-06-24T09:19:44.161704Z",
     "iopub.status.busy": "2024-06-24T09:19:44.160908Z",
     "iopub.status.idle": "2024-06-24T09:19:46.150109Z",
     "shell.execute_reply": "2024-06-24T09:19:46.149273Z",
     "shell.execute_reply.started": "2024-06-24T08:31:16.133668Z"
    },
    "papermill": {
     "duration": 2.080217,
     "end_time": "2024-06-24T09:19:46.150253",
     "exception": false,
     "start_time": "2024-06-24T09:19:44.070036",
     "status": "completed"
    },
    "tags": []
   },
   "outputs": [
    {
     "data": {
      "text/plain": [
       "1.9837474822998047"
      ]
     },
     "execution_count": 36,
     "metadata": {},
     "output_type": "execute_result"
    }
   ],
   "source": [
    "ts = time.time()\n",
    "matrix[\"item_shop_first_sale\"] = matrix[\"date_block_num\"] - matrix.groupby([\"item_id\",\"shop_id\"])[\"date_block_num\"].transform('min')\n",
    "matrix[\"item_first_sale\"] = matrix[\"date_block_num\"] - matrix.groupby([\"item_id\"])[\"date_block_num\"].transform('min')\n",
    "time.time() - ts"
   ]
  },
  {
   "cell_type": "markdown",
   "metadata": {
    "papermill": {
     "duration": 0.08358,
     "end_time": "2024-06-24T09:19:46.318487",
     "exception": false,
     "start_time": "2024-06-24T09:19:46.234907",
     "status": "completed"
    },
    "tags": []
   },
   "source": [
    "Delete first three months from matrix. They don't have lag values."
   ]
  },
  {
   "cell_type": "code",
   "execution_count": 37,
   "metadata": {
    "execution": {
     "iopub.execute_input": "2024-06-24T09:19:46.493610Z",
     "iopub.status.busy": "2024-06-24T09:19:46.492816Z",
     "iopub.status.idle": "2024-06-24T09:19:47.943215Z",
     "shell.execute_reply": "2024-06-24T09:19:47.942388Z",
     "shell.execute_reply.started": "2024-06-24T08:31:18.140845Z"
    },
    "papermill": {
     "duration": 1.540497,
     "end_time": "2024-06-24T09:19:47.943373",
     "exception": false,
     "start_time": "2024-06-24T09:19:46.402876",
     "status": "completed"
    },
    "tags": []
   },
   "outputs": [
    {
     "data": {
      "text/plain": [
       "1.4451091289520264"
      ]
     },
     "execution_count": 37,
     "metadata": {},
     "output_type": "execute_result"
    }
   ],
   "source": [
    "ts = time.time()\n",
    "matrix = matrix[matrix[\"date_block_num\"] > 3]\n",
    "time.time() - ts"
   ]
  },
  {
   "cell_type": "code",
   "execution_count": 38,
   "metadata": {
    "execution": {
     "iopub.execute_input": "2024-06-24T09:19:48.135372Z",
     "iopub.status.busy": "2024-06-24T09:19:48.134297Z",
     "iopub.status.idle": "2024-06-24T09:19:48.140424Z",
     "shell.execute_reply": "2024-06-24T09:19:48.139634Z",
     "shell.execute_reply.started": "2024-06-24T08:31:19.562891Z"
    },
    "papermill": {
     "duration": 0.112425,
     "end_time": "2024-06-24T09:19:48.140590",
     "exception": false,
     "start_time": "2024-06-24T09:19:48.028165",
     "status": "completed"
    },
    "tags": []
   },
   "outputs": [
    {
     "data": {
      "text/html": [
       "<div>\n",
       "<style scoped>\n",
       "    .dataframe tbody tr th:only-of-type {\n",
       "        vertical-align: middle;\n",
       "    }\n",
       "\n",
       "    .dataframe tbody tr th {\n",
       "        vertical-align: top;\n",
       "    }\n",
       "\n",
       "    .dataframe thead th {\n",
       "        text-align: right;\n",
       "    }\n",
       "</style>\n",
       "<table border=\"1\" class=\"dataframe\">\n",
       "  <thead>\n",
       "    <tr style=\"text-align: right;\">\n",
       "      <th></th>\n",
       "      <th>1497465</th>\n",
       "      <th>1497466</th>\n",
       "      <th>1497467</th>\n",
       "      <th>1497468</th>\n",
       "      <th>1497469</th>\n",
       "    </tr>\n",
       "  </thead>\n",
       "  <tbody>\n",
       "    <tr>\n",
       "      <th>date_block_num</th>\n",
       "      <td>4.000000</td>\n",
       "      <td>4.000000</td>\n",
       "      <td>4.0</td>\n",
       "      <td>4.000000</td>\n",
       "      <td>4.000000</td>\n",
       "    </tr>\n",
       "    <tr>\n",
       "      <th>shop_id</th>\n",
       "      <td>2.000000</td>\n",
       "      <td>2.000000</td>\n",
       "      <td>2.0</td>\n",
       "      <td>2.000000</td>\n",
       "      <td>2.000000</td>\n",
       "    </tr>\n",
       "    <tr>\n",
       "      <th>item_id</th>\n",
       "      <td>27.000000</td>\n",
       "      <td>28.000000</td>\n",
       "      <td>29.0</td>\n",
       "      <td>30.000000</td>\n",
       "      <td>31.000000</td>\n",
       "    </tr>\n",
       "    <tr>\n",
       "      <th>item_cnt_month</th>\n",
       "      <td>0.000000</td>\n",
       "      <td>0.000000</td>\n",
       "      <td>0.0</td>\n",
       "      <td>0.000000</td>\n",
       "      <td>0.000000</td>\n",
       "    </tr>\n",
       "    <tr>\n",
       "      <th>shop_category</th>\n",
       "      <td>4.000000</td>\n",
       "      <td>4.000000</td>\n",
       "      <td>4.0</td>\n",
       "      <td>4.000000</td>\n",
       "      <td>4.000000</td>\n",
       "    </tr>\n",
       "    <tr>\n",
       "      <th>shop_city</th>\n",
       "      <td>0.000000</td>\n",
       "      <td>0.000000</td>\n",
       "      <td>0.0</td>\n",
       "      <td>0.000000</td>\n",
       "      <td>0.000000</td>\n",
       "    </tr>\n",
       "    <tr>\n",
       "      <th>item_category_id</th>\n",
       "      <td>19.000000</td>\n",
       "      <td>30.000000</td>\n",
       "      <td>23.0</td>\n",
       "      <td>40.000000</td>\n",
       "      <td>37.000000</td>\n",
       "    </tr>\n",
       "    <tr>\n",
       "      <th>name2</th>\n",
       "      <td>76.000000</td>\n",
       "      <td>107.000000</td>\n",
       "      <td>123.0</td>\n",
       "      <td>4.000000</td>\n",
       "      <td>4.000000</td>\n",
       "    </tr>\n",
       "    <tr>\n",
       "      <th>name3</th>\n",
       "      <td>42.000000</td>\n",
       "      <td>42.000000</td>\n",
       "      <td>42.0</td>\n",
       "      <td>42.000000</td>\n",
       "      <td>562.000000</td>\n",
       "    </tr>\n",
       "    <tr>\n",
       "      <th>subtype_code</th>\n",
       "      <td>10.000000</td>\n",
       "      <td>55.000000</td>\n",
       "      <td>16.0</td>\n",
       "      <td>4.000000</td>\n",
       "      <td>1.000000</td>\n",
       "    </tr>\n",
       "    <tr>\n",
       "      <th>type_code</th>\n",
       "      <td>3.000000</td>\n",
       "      <td>3.000000</td>\n",
       "      <td>3.0</td>\n",
       "      <td>5.000000</td>\n",
       "      <td>5.000000</td>\n",
       "    </tr>\n",
       "    <tr>\n",
       "      <th>item_cnt_month_lag_1</th>\n",
       "      <td>0.000000</td>\n",
       "      <td>0.000000</td>\n",
       "      <td>NaN</td>\n",
       "      <td>0.000000</td>\n",
       "      <td>1.000000</td>\n",
       "    </tr>\n",
       "    <tr>\n",
       "      <th>item_cnt_month_lag_2</th>\n",
       "      <td>0.000000</td>\n",
       "      <td>0.000000</td>\n",
       "      <td>NaN</td>\n",
       "      <td>1.000000</td>\n",
       "      <td>1.000000</td>\n",
       "    </tr>\n",
       "    <tr>\n",
       "      <th>item_cnt_month_lag_3</th>\n",
       "      <td>0.000000</td>\n",
       "      <td>0.000000</td>\n",
       "      <td>NaN</td>\n",
       "      <td>0.000000</td>\n",
       "      <td>4.000000</td>\n",
       "    </tr>\n",
       "    <tr>\n",
       "      <th>date_avg_item_cnt_lag_1</th>\n",
       "      <td>0.286865</td>\n",
       "      <td>0.286865</td>\n",
       "      <td>NaN</td>\n",
       "      <td>0.286865</td>\n",
       "      <td>0.286865</td>\n",
       "    </tr>\n",
       "    <tr>\n",
       "      <th>date_item_avg_item_cnt_lag_1</th>\n",
       "      <td>0.021744</td>\n",
       "      <td>0.130493</td>\n",
       "      <td>NaN</td>\n",
       "      <td>2.826172</td>\n",
       "      <td>1.260742</td>\n",
       "    </tr>\n",
       "    <tr>\n",
       "      <th>date_item_avg_item_cnt_lag_2</th>\n",
       "      <td>0.086975</td>\n",
       "      <td>0.152222</td>\n",
       "      <td>NaN</td>\n",
       "      <td>11.046875</td>\n",
       "      <td>4.781250</td>\n",
       "    </tr>\n",
       "    <tr>\n",
       "      <th>date_item_avg_item_cnt_lag_3</th>\n",
       "      <td>0.065247</td>\n",
       "      <td>0.173950</td>\n",
       "      <td>NaN</td>\n",
       "      <td>18.734375</td>\n",
       "      <td>13.648438</td>\n",
       "    </tr>\n",
       "    <tr>\n",
       "      <th>date_shop_avg_item_cnt_lag_1</th>\n",
       "      <td>0.071838</td>\n",
       "      <td>0.071838</td>\n",
       "      <td>NaN</td>\n",
       "      <td>0.071838</td>\n",
       "      <td>0.071838</td>\n",
       "    </tr>\n",
       "    <tr>\n",
       "      <th>date_shop_avg_item_cnt_lag_2</th>\n",
       "      <td>0.091064</td>\n",
       "      <td>0.091064</td>\n",
       "      <td>NaN</td>\n",
       "      <td>0.091064</td>\n",
       "      <td>0.091064</td>\n",
       "    </tr>\n",
       "    <tr>\n",
       "      <th>date_shop_avg_item_cnt_lag_3</th>\n",
       "      <td>0.059875</td>\n",
       "      <td>0.059875</td>\n",
       "      <td>NaN</td>\n",
       "      <td>0.059875</td>\n",
       "      <td>0.059875</td>\n",
       "    </tr>\n",
       "    <tr>\n",
       "      <th>date_shop_item_avg_item_cnt_lag_1</th>\n",
       "      <td>0.000000</td>\n",
       "      <td>0.000000</td>\n",
       "      <td>NaN</td>\n",
       "      <td>0.000000</td>\n",
       "      <td>1.000000</td>\n",
       "    </tr>\n",
       "    <tr>\n",
       "      <th>date_shop_item_avg_item_cnt_lag_2</th>\n",
       "      <td>0.000000</td>\n",
       "      <td>0.000000</td>\n",
       "      <td>NaN</td>\n",
       "      <td>1.000000</td>\n",
       "      <td>1.000000</td>\n",
       "    </tr>\n",
       "    <tr>\n",
       "      <th>date_shop_item_avg_item_cnt_lag_3</th>\n",
       "      <td>0.000000</td>\n",
       "      <td>0.000000</td>\n",
       "      <td>NaN</td>\n",
       "      <td>0.000000</td>\n",
       "      <td>4.000000</td>\n",
       "    </tr>\n",
       "    <tr>\n",
       "      <th>date_shop_subtype_avg_item_cnt_lag_1</th>\n",
       "      <td>0.449463</td>\n",
       "      <td>0.387207</td>\n",
       "      <td>NaN</td>\n",
       "      <td>0.018585</td>\n",
       "      <td>0.035919</td>\n",
       "    </tr>\n",
       "    <tr>\n",
       "      <th>date_city_avg_item_cnt_lag_1</th>\n",
       "      <td>0.071838</td>\n",
       "      <td>0.071838</td>\n",
       "      <td>NaN</td>\n",
       "      <td>0.071838</td>\n",
       "      <td>0.071838</td>\n",
       "    </tr>\n",
       "    <tr>\n",
       "      <th>date_item_city_avg_item_cnt_lag_1</th>\n",
       "      <td>0.000000</td>\n",
       "      <td>0.000000</td>\n",
       "      <td>NaN</td>\n",
       "      <td>0.000000</td>\n",
       "      <td>1.000000</td>\n",
       "    </tr>\n",
       "    <tr>\n",
       "      <th>delta_price_lag</th>\n",
       "      <td>0.367676</td>\n",
       "      <td>0.256348</td>\n",
       "      <td>0.0</td>\n",
       "      <td>0.212402</td>\n",
       "      <td>0.191040</td>\n",
       "    </tr>\n",
       "    <tr>\n",
       "      <th>delta_revenue_lag_1</th>\n",
       "      <td>37326.816406</td>\n",
       "      <td>37326.816406</td>\n",
       "      <td>NaN</td>\n",
       "      <td>37326.816406</td>\n",
       "      <td>37326.816406</td>\n",
       "    </tr>\n",
       "    <tr>\n",
       "      <th>month</th>\n",
       "      <td>4.000000</td>\n",
       "      <td>4.000000</td>\n",
       "      <td>4.0</td>\n",
       "      <td>4.000000</td>\n",
       "      <td>4.000000</td>\n",
       "    </tr>\n",
       "    <tr>\n",
       "      <th>days</th>\n",
       "      <td>31.000000</td>\n",
       "      <td>31.000000</td>\n",
       "      <td>31.0</td>\n",
       "      <td>31.000000</td>\n",
       "      <td>31.000000</td>\n",
       "    </tr>\n",
       "    <tr>\n",
       "      <th>item_shop_first_sale</th>\n",
       "      <td>4.000000</td>\n",
       "      <td>4.000000</td>\n",
       "      <td>4.0</td>\n",
       "      <td>3.000000</td>\n",
       "      <td>3.000000</td>\n",
       "    </tr>\n",
       "    <tr>\n",
       "      <th>item_first_sale</th>\n",
       "      <td>4.000000</td>\n",
       "      <td>4.000000</td>\n",
       "      <td>4.0</td>\n",
       "      <td>3.000000</td>\n",
       "      <td>3.000000</td>\n",
       "    </tr>\n",
       "  </tbody>\n",
       "</table>\n",
       "</div>"
      ],
      "text/plain": [
       "                                           1497465       1497466  1497467  \\\n",
       "date_block_num                            4.000000      4.000000      4.0   \n",
       "shop_id                                   2.000000      2.000000      2.0   \n",
       "item_id                                  27.000000     28.000000     29.0   \n",
       "item_cnt_month                            0.000000      0.000000      0.0   \n",
       "shop_category                             4.000000      4.000000      4.0   \n",
       "shop_city                                 0.000000      0.000000      0.0   \n",
       "item_category_id                         19.000000     30.000000     23.0   \n",
       "name2                                    76.000000    107.000000    123.0   \n",
       "name3                                    42.000000     42.000000     42.0   \n",
       "subtype_code                             10.000000     55.000000     16.0   \n",
       "type_code                                 3.000000      3.000000      3.0   \n",
       "item_cnt_month_lag_1                      0.000000      0.000000      NaN   \n",
       "item_cnt_month_lag_2                      0.000000      0.000000      NaN   \n",
       "item_cnt_month_lag_3                      0.000000      0.000000      NaN   \n",
       "date_avg_item_cnt_lag_1                   0.286865      0.286865      NaN   \n",
       "date_item_avg_item_cnt_lag_1              0.021744      0.130493      NaN   \n",
       "date_item_avg_item_cnt_lag_2              0.086975      0.152222      NaN   \n",
       "date_item_avg_item_cnt_lag_3              0.065247      0.173950      NaN   \n",
       "date_shop_avg_item_cnt_lag_1              0.071838      0.071838      NaN   \n",
       "date_shop_avg_item_cnt_lag_2              0.091064      0.091064      NaN   \n",
       "date_shop_avg_item_cnt_lag_3              0.059875      0.059875      NaN   \n",
       "date_shop_item_avg_item_cnt_lag_1         0.000000      0.000000      NaN   \n",
       "date_shop_item_avg_item_cnt_lag_2         0.000000      0.000000      NaN   \n",
       "date_shop_item_avg_item_cnt_lag_3         0.000000      0.000000      NaN   \n",
       "date_shop_subtype_avg_item_cnt_lag_1      0.449463      0.387207      NaN   \n",
       "date_city_avg_item_cnt_lag_1              0.071838      0.071838      NaN   \n",
       "date_item_city_avg_item_cnt_lag_1         0.000000      0.000000      NaN   \n",
       "delta_price_lag                           0.367676      0.256348      0.0   \n",
       "delta_revenue_lag_1                   37326.816406  37326.816406      NaN   \n",
       "month                                     4.000000      4.000000      4.0   \n",
       "days                                     31.000000     31.000000     31.0   \n",
       "item_shop_first_sale                      4.000000      4.000000      4.0   \n",
       "item_first_sale                           4.000000      4.000000      4.0   \n",
       "\n",
       "                                           1497468       1497469  \n",
       "date_block_num                            4.000000      4.000000  \n",
       "shop_id                                   2.000000      2.000000  \n",
       "item_id                                  30.000000     31.000000  \n",
       "item_cnt_month                            0.000000      0.000000  \n",
       "shop_category                             4.000000      4.000000  \n",
       "shop_city                                 0.000000      0.000000  \n",
       "item_category_id                         40.000000     37.000000  \n",
       "name2                                     4.000000      4.000000  \n",
       "name3                                    42.000000    562.000000  \n",
       "subtype_code                              4.000000      1.000000  \n",
       "type_code                                 5.000000      5.000000  \n",
       "item_cnt_month_lag_1                      0.000000      1.000000  \n",
       "item_cnt_month_lag_2                      1.000000      1.000000  \n",
       "item_cnt_month_lag_3                      0.000000      4.000000  \n",
       "date_avg_item_cnt_lag_1                   0.286865      0.286865  \n",
       "date_item_avg_item_cnt_lag_1              2.826172      1.260742  \n",
       "date_item_avg_item_cnt_lag_2             11.046875      4.781250  \n",
       "date_item_avg_item_cnt_lag_3             18.734375     13.648438  \n",
       "date_shop_avg_item_cnt_lag_1              0.071838      0.071838  \n",
       "date_shop_avg_item_cnt_lag_2              0.091064      0.091064  \n",
       "date_shop_avg_item_cnt_lag_3              0.059875      0.059875  \n",
       "date_shop_item_avg_item_cnt_lag_1         0.000000      1.000000  \n",
       "date_shop_item_avg_item_cnt_lag_2         1.000000      1.000000  \n",
       "date_shop_item_avg_item_cnt_lag_3         0.000000      4.000000  \n",
       "date_shop_subtype_avg_item_cnt_lag_1      0.018585      0.035919  \n",
       "date_city_avg_item_cnt_lag_1              0.071838      0.071838  \n",
       "date_item_city_avg_item_cnt_lag_1         0.000000      1.000000  \n",
       "delta_price_lag                           0.212402      0.191040  \n",
       "delta_revenue_lag_1                   37326.816406  37326.816406  \n",
       "month                                     4.000000      4.000000  \n",
       "days                                     31.000000     31.000000  \n",
       "item_shop_first_sale                      3.000000      3.000000  \n",
       "item_first_sale                           3.000000      3.000000  "
      ]
     },
     "execution_count": 38,
     "metadata": {},
     "output_type": "execute_result"
    }
   ],
   "source": [
    "matrix.head().T"
   ]
  },
  {
   "cell_type": "markdown",
   "metadata": {
    "papermill": {
     "duration": 0.085824,
     "end_time": "2024-06-24T09:19:48.312879",
     "exception": false,
     "start_time": "2024-06-24T09:19:48.227055",
     "status": "completed"
    },
    "tags": []
   },
   "source": [
    "# Modelling"
   ]
  },
  {
   "cell_type": "code",
   "execution_count": 39,
   "metadata": {
    "execution": {
     "iopub.execute_input": "2024-06-24T09:19:48.492411Z",
     "iopub.status.busy": "2024-06-24T09:19:48.491555Z",
     "iopub.status.idle": "2024-06-24T09:19:48.741824Z",
     "shell.execute_reply": "2024-06-24T09:19:48.741012Z",
     "shell.execute_reply.started": "2024-06-24T08:31:19.585637Z"
    },
    "papermill": {
     "duration": 0.344088,
     "end_time": "2024-06-24T09:19:48.741976",
     "exception": false,
     "start_time": "2024-06-24T09:19:48.397888",
     "status": "completed"
    },
    "tags": []
   },
   "outputs": [],
   "source": [
    "import gc\n",
    "import pickle\n",
    "from catboost import CatBoostRegressor\n",
    "from matplotlib.pylab import rcParams\n",
    "rcParams['figure.figsize'] = 12, 4"
   ]
  },
  {
   "cell_type": "code",
   "execution_count": 40,
   "metadata": {
    "execution": {
     "iopub.execute_input": "2024-06-24T09:19:48.927118Z",
     "iopub.status.busy": "2024-06-24T09:19:48.925354Z",
     "iopub.status.idle": "2024-06-24T09:19:49.245407Z",
     "shell.execute_reply": "2024-06-24T09:19:49.244500Z",
     "shell.execute_reply.started": "2024-06-24T08:31:19.793688Z"
    },
    "papermill": {
     "duration": 0.412043,
     "end_time": "2024-06-24T09:19:49.245582",
     "exception": false,
     "start_time": "2024-06-24T09:19:48.833539",
     "status": "completed"
    },
    "tags": []
   },
   "outputs": [
    {
     "data": {
      "text/plain": [
       "32"
      ]
     },
     "execution_count": 40,
     "metadata": {},
     "output_type": "execute_result"
    }
   ],
   "source": [
    "data = matrix.copy()\n",
    "del matrix\n",
    "gc.collect()"
   ]
  },
  {
   "cell_type": "code",
   "execution_count": 41,
   "metadata": {
    "execution": {
     "iopub.execute_input": "2024-06-24T09:19:49.444635Z",
     "iopub.status.busy": "2024-06-24T09:19:49.443305Z",
     "iopub.status.idle": "2024-06-24T09:19:49.480284Z",
     "shell.execute_reply": "2024-06-24T09:19:49.479227Z",
     "shell.execute_reply.started": "2024-06-24T08:31:20.064466Z"
    },
    "papermill": {
     "duration": 0.139192,
     "end_time": "2024-06-24T09:19:49.480461",
     "exception": false,
     "start_time": "2024-06-24T09:19:49.341269",
     "status": "completed"
    },
    "tags": []
   },
   "outputs": [
    {
     "data": {
      "text/plain": [
       "(214200, 33)"
      ]
     },
     "execution_count": 41,
     "metadata": {},
     "output_type": "execute_result"
    }
   ],
   "source": [
    "data[data[\"date_block_num\"]==34].shape"
   ]
  },
  {
   "cell_type": "markdown",
   "metadata": {
    "papermill": {
     "duration": 0.0959,
     "end_time": "2024-06-24T09:19:49.668241",
     "exception": false,
     "start_time": "2024-06-24T09:19:49.572341",
     "status": "completed"
    },
    "tags": []
   },
   "source": [
    "Use month 34 as validation for training."
   ]
  },
  {
   "cell_type": "code",
   "execution_count": 42,
   "metadata": {
    "execution": {
     "iopub.execute_input": "2024-06-24T09:19:49.870722Z",
     "iopub.status.busy": "2024-06-24T09:19:49.869406Z",
     "iopub.status.idle": "2024-06-24T09:19:53.520172Z",
     "shell.execute_reply": "2024-06-24T09:19:53.520924Z",
     "shell.execute_reply.started": "2024-06-24T08:31:20.100145Z"
    },
    "papermill": {
     "duration": 3.749247,
     "end_time": "2024-06-24T09:19:53.521108",
     "exception": false,
     "start_time": "2024-06-24T09:19:49.771861",
     "status": "completed"
    },
    "tags": []
   },
   "outputs": [],
   "source": [
    "X_train = data[data.date_block_num < 33].drop(['item_cnt_month'], axis=1)\n",
    "Y_train = data[data.date_block_num < 33]['item_cnt_month']\n",
    "X_valid = data[data.date_block_num == 33].drop(['item_cnt_month'], axis=1)\n",
    "Y_valid = data[data.date_block_num == 33]['item_cnt_month']\n",
    "X_test = data[data.date_block_num == 34].drop(['item_cnt_month'], axis=1)"
   ]
  },
  {
   "cell_type": "code",
   "execution_count": 43,
   "metadata": {
    "execution": {
     "iopub.execute_input": "2024-06-24T09:19:53.702836Z",
     "iopub.status.busy": "2024-06-24T09:19:53.701940Z",
     "iopub.status.idle": "2024-06-24T09:19:53.957888Z",
     "shell.execute_reply": "2024-06-24T09:19:53.957184Z",
     "shell.execute_reply.started": "2024-06-24T08:31:23.474904Z"
    },
    "papermill": {
     "duration": 0.348871,
     "end_time": "2024-06-24T09:19:53.958045",
     "exception": false,
     "start_time": "2024-06-24T09:19:53.609174",
     "status": "completed"
    },
    "tags": []
   },
   "outputs": [],
   "source": [
    "Y_train = Y_train.clip(0, 20)\n",
    "Y_valid = Y_valid.clip(0, 20)"
   ]
  },
  {
   "cell_type": "code",
   "execution_count": 44,
   "metadata": {
    "execution": {
     "iopub.execute_input": "2024-06-24T09:19:54.176750Z",
     "iopub.status.busy": "2024-06-24T09:19:54.161741Z",
     "iopub.status.idle": "2024-06-24T09:19:54.183193Z",
     "shell.execute_reply": "2024-06-24T09:19:54.182188Z",
     "shell.execute_reply.started": "2024-06-24T08:31:23.742363Z"
    },
    "papermill": {
     "duration": 0.132495,
     "end_time": "2024-06-24T09:19:54.183355",
     "exception": false,
     "start_time": "2024-06-24T09:19:54.050860",
     "status": "completed"
    },
    "tags": []
   },
   "outputs": [
    {
     "data": {
      "text/html": [
       "<div>\n",
       "<style scoped>\n",
       "    .dataframe tbody tr th:only-of-type {\n",
       "        vertical-align: middle;\n",
       "    }\n",
       "\n",
       "    .dataframe tbody tr th {\n",
       "        vertical-align: top;\n",
       "    }\n",
       "\n",
       "    .dataframe thead th {\n",
       "        text-align: right;\n",
       "    }\n",
       "</style>\n",
       "<table border=\"1\" class=\"dataframe\">\n",
       "  <thead>\n",
       "    <tr style=\"text-align: right;\">\n",
       "      <th></th>\n",
       "      <th>date_block_num</th>\n",
       "      <th>shop_id</th>\n",
       "      <th>item_id</th>\n",
       "      <th>shop_category</th>\n",
       "      <th>shop_city</th>\n",
       "      <th>item_category_id</th>\n",
       "      <th>name2</th>\n",
       "      <th>name3</th>\n",
       "      <th>subtype_code</th>\n",
       "      <th>type_code</th>\n",
       "      <th>...</th>\n",
       "      <th>date_shop_item_avg_item_cnt_lag_3</th>\n",
       "      <th>date_shop_subtype_avg_item_cnt_lag_1</th>\n",
       "      <th>date_city_avg_item_cnt_lag_1</th>\n",
       "      <th>date_item_city_avg_item_cnt_lag_1</th>\n",
       "      <th>delta_price_lag</th>\n",
       "      <th>delta_revenue_lag_1</th>\n",
       "      <th>month</th>\n",
       "      <th>days</th>\n",
       "      <th>item_shop_first_sale</th>\n",
       "      <th>item_first_sale</th>\n",
       "    </tr>\n",
       "  </thead>\n",
       "  <tbody>\n",
       "    <tr>\n",
       "      <th>1497465</th>\n",
       "      <td>4</td>\n",
       "      <td>2</td>\n",
       "      <td>27</td>\n",
       "      <td>4</td>\n",
       "      <td>0</td>\n",
       "      <td>19</td>\n",
       "      <td>76</td>\n",
       "      <td>42</td>\n",
       "      <td>10</td>\n",
       "      <td>3</td>\n",
       "      <td>...</td>\n",
       "      <td>0.0</td>\n",
       "      <td>0.449463</td>\n",
       "      <td>0.071838</td>\n",
       "      <td>0.0</td>\n",
       "      <td>0.367676</td>\n",
       "      <td>37326.816406</td>\n",
       "      <td>4</td>\n",
       "      <td>31</td>\n",
       "      <td>4</td>\n",
       "      <td>4</td>\n",
       "    </tr>\n",
       "    <tr>\n",
       "      <th>1497466</th>\n",
       "      <td>4</td>\n",
       "      <td>2</td>\n",
       "      <td>28</td>\n",
       "      <td>4</td>\n",
       "      <td>0</td>\n",
       "      <td>30</td>\n",
       "      <td>107</td>\n",
       "      <td>42</td>\n",
       "      <td>55</td>\n",
       "      <td>3</td>\n",
       "      <td>...</td>\n",
       "      <td>0.0</td>\n",
       "      <td>0.387207</td>\n",
       "      <td>0.071838</td>\n",
       "      <td>0.0</td>\n",
       "      <td>0.256348</td>\n",
       "      <td>37326.816406</td>\n",
       "      <td>4</td>\n",
       "      <td>31</td>\n",
       "      <td>4</td>\n",
       "      <td>4</td>\n",
       "    </tr>\n",
       "    <tr>\n",
       "      <th>1497467</th>\n",
       "      <td>4</td>\n",
       "      <td>2</td>\n",
       "      <td>29</td>\n",
       "      <td>4</td>\n",
       "      <td>0</td>\n",
       "      <td>23</td>\n",
       "      <td>123</td>\n",
       "      <td>42</td>\n",
       "      <td>16</td>\n",
       "      <td>3</td>\n",
       "      <td>...</td>\n",
       "      <td>NaN</td>\n",
       "      <td>NaN</td>\n",
       "      <td>NaN</td>\n",
       "      <td>NaN</td>\n",
       "      <td>0.000000</td>\n",
       "      <td>NaN</td>\n",
       "      <td>4</td>\n",
       "      <td>31</td>\n",
       "      <td>4</td>\n",
       "      <td>4</td>\n",
       "    </tr>\n",
       "    <tr>\n",
       "      <th>1497468</th>\n",
       "      <td>4</td>\n",
       "      <td>2</td>\n",
       "      <td>30</td>\n",
       "      <td>4</td>\n",
       "      <td>0</td>\n",
       "      <td>40</td>\n",
       "      <td>4</td>\n",
       "      <td>42</td>\n",
       "      <td>4</td>\n",
       "      <td>5</td>\n",
       "      <td>...</td>\n",
       "      <td>0.0</td>\n",
       "      <td>0.018585</td>\n",
       "      <td>0.071838</td>\n",
       "      <td>0.0</td>\n",
       "      <td>0.212402</td>\n",
       "      <td>37326.816406</td>\n",
       "      <td>4</td>\n",
       "      <td>31</td>\n",
       "      <td>3</td>\n",
       "      <td>3</td>\n",
       "    </tr>\n",
       "    <tr>\n",
       "      <th>1497469</th>\n",
       "      <td>4</td>\n",
       "      <td>2</td>\n",
       "      <td>31</td>\n",
       "      <td>4</td>\n",
       "      <td>0</td>\n",
       "      <td>37</td>\n",
       "      <td>4</td>\n",
       "      <td>562</td>\n",
       "      <td>1</td>\n",
       "      <td>5</td>\n",
       "      <td>...</td>\n",
       "      <td>4.0</td>\n",
       "      <td>0.035919</td>\n",
       "      <td>0.071838</td>\n",
       "      <td>1.0</td>\n",
       "      <td>0.191040</td>\n",
       "      <td>37326.816406</td>\n",
       "      <td>4</td>\n",
       "      <td>31</td>\n",
       "      <td>3</td>\n",
       "      <td>3</td>\n",
       "    </tr>\n",
       "  </tbody>\n",
       "</table>\n",
       "<p>5 rows × 32 columns</p>\n",
       "</div>"
      ],
      "text/plain": [
       "         date_block_num  shop_id  item_id  shop_category  shop_city  \\\n",
       "1497465               4        2       27              4          0   \n",
       "1497466               4        2       28              4          0   \n",
       "1497467               4        2       29              4          0   \n",
       "1497468               4        2       30              4          0   \n",
       "1497469               4        2       31              4          0   \n",
       "\n",
       "         item_category_id  name2  name3  subtype_code  type_code  ...  \\\n",
       "1497465                19     76     42            10          3  ...   \n",
       "1497466                30    107     42            55          3  ...   \n",
       "1497467                23    123     42            16          3  ...   \n",
       "1497468                40      4     42             4          5  ...   \n",
       "1497469                37      4    562             1          5  ...   \n",
       "\n",
       "         date_shop_item_avg_item_cnt_lag_3  \\\n",
       "1497465                                0.0   \n",
       "1497466                                0.0   \n",
       "1497467                                NaN   \n",
       "1497468                                0.0   \n",
       "1497469                                4.0   \n",
       "\n",
       "         date_shop_subtype_avg_item_cnt_lag_1  date_city_avg_item_cnt_lag_1  \\\n",
       "1497465                              0.449463                      0.071838   \n",
       "1497466                              0.387207                      0.071838   \n",
       "1497467                                   NaN                           NaN   \n",
       "1497468                              0.018585                      0.071838   \n",
       "1497469                              0.035919                      0.071838   \n",
       "\n",
       "         date_item_city_avg_item_cnt_lag_1  delta_price_lag  \\\n",
       "1497465                                0.0         0.367676   \n",
       "1497466                                0.0         0.256348   \n",
       "1497467                                NaN         0.000000   \n",
       "1497468                                0.0         0.212402   \n",
       "1497469                                1.0         0.191040   \n",
       "\n",
       "         delta_revenue_lag_1  month  days  item_shop_first_sale  \\\n",
       "1497465         37326.816406      4    31                     4   \n",
       "1497466         37326.816406      4    31                     4   \n",
       "1497467                  NaN      4    31                     4   \n",
       "1497468         37326.816406      4    31                     3   \n",
       "1497469         37326.816406      4    31                     3   \n",
       "\n",
       "         item_first_sale  \n",
       "1497465                4  \n",
       "1497466                4  \n",
       "1497467                4  \n",
       "1497468                3  \n",
       "1497469                3  \n",
       "\n",
       "[5 rows x 32 columns]"
      ]
     },
     "execution_count": 44,
     "metadata": {},
     "output_type": "execute_result"
    }
   ],
   "source": [
    "X_train.head()"
   ]
  },
  {
   "cell_type": "code",
   "execution_count": 45,
   "metadata": {
    "execution": {
     "iopub.execute_input": "2024-06-24T09:19:54.500471Z",
     "iopub.status.busy": "2024-06-24T09:19:54.497985Z",
     "iopub.status.idle": "2024-06-24T09:19:54.501939Z",
     "shell.execute_reply": "2024-06-24T09:19:54.502668Z",
     "shell.execute_reply.started": "2024-06-24T08:31:23.774046Z"
    },
    "papermill": {
     "duration": 0.22206,
     "end_time": "2024-06-24T09:19:54.502860",
     "exception": false,
     "start_time": "2024-06-24T09:19:54.280800",
     "status": "completed"
    },
    "tags": []
   },
   "outputs": [],
   "source": [
    "del data\n",
    "gc.collect();"
   ]
  },
  {
   "cell_type": "code",
   "execution_count": 46,
   "metadata": {
    "execution": {
     "iopub.execute_input": "2024-06-24T09:19:54.711816Z",
     "iopub.status.busy": "2024-06-24T09:19:54.710083Z",
     "iopub.status.idle": "2024-06-24T09:19:54.729509Z",
     "shell.execute_reply": "2024-06-24T09:19:54.728304Z",
     "shell.execute_reply.started": "2024-06-24T08:47:15.298496Z"
    },
    "papermill": {
     "duration": 0.124069,
     "end_time": "2024-06-24T09:19:54.729712",
     "exception": false,
     "start_time": "2024-06-24T09:19:54.605643",
     "status": "completed"
    },
    "tags": []
   },
   "outputs": [
    {
     "name": "stdout",
     "output_type": "stream",
     "text": [
      "<class 'pandas.core.frame.DataFrame'>\n",
      "Int64Index: 9178167 entries, 1497465 to 10675631\n",
      "Data columns (total 32 columns):\n",
      " #   Column                                Dtype  \n",
      "---  ------                                -----  \n",
      " 0   date_block_num                        int8   \n",
      " 1   shop_id                               int8   \n",
      " 2   item_id                               int16  \n",
      " 3   shop_category                         int8   \n",
      " 4   shop_city                             int8   \n",
      " 5   item_category_id                      int8   \n",
      " 6   name2                                 int8   \n",
      " 7   name3                                 int16  \n",
      " 8   subtype_code                          int8   \n",
      " 9   type_code                             int8   \n",
      " 10  item_cnt_month_lag_1                  float16\n",
      " 11  item_cnt_month_lag_2                  float16\n",
      " 12  item_cnt_month_lag_3                  float16\n",
      " 13  date_avg_item_cnt_lag_1               float16\n",
      " 14  date_item_avg_item_cnt_lag_1          float16\n",
      " 15  date_item_avg_item_cnt_lag_2          float16\n",
      " 16  date_item_avg_item_cnt_lag_3          float16\n",
      " 17  date_shop_avg_item_cnt_lag_1          float16\n",
      " 18  date_shop_avg_item_cnt_lag_2          float16\n",
      " 19  date_shop_avg_item_cnt_lag_3          float16\n",
      " 20  date_shop_item_avg_item_cnt_lag_1     float16\n",
      " 21  date_shop_item_avg_item_cnt_lag_2     float16\n",
      " 22  date_shop_item_avg_item_cnt_lag_3     float16\n",
      " 23  date_shop_subtype_avg_item_cnt_lag_1  float16\n",
      " 24  date_city_avg_item_cnt_lag_1          float16\n",
      " 25  date_item_city_avg_item_cnt_lag_1     float16\n",
      " 26  delta_price_lag                       float16\n",
      " 27  delta_revenue_lag_1                   float32\n",
      " 28  month                                 int8   \n",
      " 29  days                                  int8   \n",
      " 30  item_shop_first_sale                  int8   \n",
      " 31  item_first_sale                       int8   \n",
      "dtypes: float16(17), float32(1), int16(2), int8(12)\n",
      "memory usage: 542.7 MB\n"
     ]
    }
   ],
   "source": [
    "X_train.info()"
   ]
  },
  {
   "cell_type": "code",
   "execution_count": 47,
   "metadata": {
    "execution": {
     "iopub.execute_input": "2024-06-24T09:19:54.932916Z",
     "iopub.status.busy": "2024-06-24T09:19:54.931822Z",
     "iopub.status.idle": "2024-06-24T09:20:00.866879Z",
     "shell.execute_reply": "2024-06-24T09:20:00.866112Z",
     "shell.execute_reply.started": "2024-06-24T08:51:22.969453Z"
    },
    "papermill": {
     "duration": 6.033453,
     "end_time": "2024-06-24T09:20:00.867023",
     "exception": false,
     "start_time": "2024-06-24T09:19:54.833570",
     "status": "completed"
    },
    "tags": []
   },
   "outputs": [],
   "source": [
    "# nan값을 0으로\n",
    "X_train = X_train.fillna(0).replace([np.inf, -np.inf], 0)\n",
    "X_valid = X_valid.fillna(0).replace([np.inf, -np.inf], 0)\n",
    "\n",
    "Y_train = Y_train.fillna(0).replace([np.inf, -np.inf], 0)\n",
    "Y_valid = Y_valid.fillna(0).replace([np.inf, -np.inf], 0)\n",
    "\n",
    "\n",
    "# 모든 값을 정수형으로 변환합니다.\n",
    "X_train = X_train.astype(int)\n",
    "X_valid = X_valid.astype(int)\n",
    "\n",
    "Y_train = Y_train.astype(int)\n",
    "Y_valid = Y_valid.astype(int)"
   ]
  },
  {
   "cell_type": "code",
   "execution_count": 48,
   "metadata": {
    "execution": {
     "iopub.execute_input": "2024-06-24T09:20:01.060142Z",
     "iopub.status.busy": "2024-06-24T09:20:01.053862Z",
     "iopub.status.idle": "2024-06-24T09:29:21.153630Z",
     "shell.execute_reply": "2024-06-24T09:29:21.152974Z",
     "shell.execute_reply.started": "2024-06-24T08:51:32.051822Z"
    },
    "papermill": {
     "duration": 560.199106,
     "end_time": "2024-06-24T09:29:21.153820",
     "exception": false,
     "start_time": "2024-06-24T09:20:00.954714",
     "status": "completed"
    },
    "tags": []
   },
   "outputs": [
    {
     "name": "stdout",
     "output_type": "stream",
     "text": [
      "0:\tlearn: 1.1701731\ttest: 1.1032792\tbest: 1.1032792 (0)\ttotal: 3.83s\tremaining: 1h 3m 46s\n",
      "1:\tlearn: 1.1310157\ttest: 1.0747442\tbest: 1.0747442 (1)\ttotal: 7.64s\tremaining: 1h 3m 33s\n",
      "2:\tlearn: 1.0969643\ttest: 1.0523408\tbest: 1.0523408 (2)\ttotal: 11.1s\tremaining: 1h 1m 18s\n",
      "3:\tlearn: 1.0685253\ttest: 1.0342254\tbest: 1.0342254 (3)\ttotal: 14.5s\tremaining: 1h 15s\n",
      "4:\tlearn: 1.0438071\ttest: 1.0184731\tbest: 1.0184731 (4)\ttotal: 18.2s\tremaining: 1h 19s\n",
      "5:\tlearn: 1.0229943\ttest: 1.0043571\tbest: 1.0043571 (5)\ttotal: 21.9s\tremaining: 1h 35s\n",
      "6:\tlearn: 1.0049277\ttest: 0.9929438\tbest: 0.9929438 (6)\ttotal: 25.7s\tremaining: 1h 44s\n",
      "7:\tlearn: 0.9895523\ttest: 0.9836073\tbest: 0.9836073 (7)\ttotal: 29.7s\tremaining: 1h 1m 27s\n",
      "8:\tlearn: 0.9768157\ttest: 0.9756185\tbest: 0.9756185 (8)\ttotal: 33.3s\tremaining: 1h 1m 7s\n",
      "9:\tlearn: 0.9655513\ttest: 0.9687330\tbest: 0.9687330 (9)\ttotal: 37.1s\tremaining: 1h 1m 15s\n",
      "10:\tlearn: 0.9565633\ttest: 0.9639841\tbest: 0.9639841 (10)\ttotal: 40.7s\tremaining: 1h 1m 1s\n",
      "11:\tlearn: 0.9482706\ttest: 0.9585900\tbest: 0.9585900 (11)\ttotal: 44.2s\tremaining: 1h 35s\n",
      "12:\tlearn: 0.9407263\ttest: 0.9521681\tbest: 0.9521681 (12)\ttotal: 47.8s\tremaining: 1h 31s\n",
      "13:\tlearn: 0.9349040\ttest: 0.9491041\tbest: 0.9491041 (13)\ttotal: 51.4s\tremaining: 1h 22s\n",
      "14:\tlearn: 0.9298057\ttest: 0.9461515\tbest: 0.9461515 (14)\ttotal: 54.9s\tremaining: 1h 3s\n",
      "15:\tlearn: 0.9253663\ttest: 0.9437856\tbest: 0.9437856 (15)\ttotal: 58.8s\tremaining: 1h 17s\n",
      "16:\tlearn: 0.9213127\ttest: 0.9407875\tbest: 0.9407875 (16)\ttotal: 1m 2s\tremaining: 1h 14s\n",
      "17:\tlearn: 0.9175691\ttest: 0.9380899\tbest: 0.9380899 (17)\ttotal: 1m 6s\tremaining: 1h\n",
      "18:\tlearn: 0.9147429\ttest: 0.9368678\tbest: 0.9368678 (18)\ttotal: 1m 9s\tremaining: 59m 47s\n",
      "19:\tlearn: 0.9122074\ttest: 0.9359337\tbest: 0.9359337 (19)\ttotal: 1m 13s\tremaining: 59m 38s\n",
      "20:\tlearn: 0.9099922\ttest: 0.9348651\tbest: 0.9348651 (20)\ttotal: 1m 16s\tremaining: 59m 31s\n",
      "21:\tlearn: 0.9075581\ttest: 0.9338911\tbest: 0.9338911 (21)\ttotal: 1m 20s\tremaining: 59m 24s\n",
      "22:\tlearn: 0.9050765\ttest: 0.9322599\tbest: 0.9322599 (22)\ttotal: 1m 23s\tremaining: 59m 15s\n",
      "23:\tlearn: 0.9033081\ttest: 0.9313744\tbest: 0.9313744 (23)\ttotal: 1m 27s\tremaining: 59m 10s\n",
      "24:\tlearn: 0.9017333\ttest: 0.9309775\tbest: 0.9309775 (24)\ttotal: 1m 31s\tremaining: 59m 12s\n",
      "25:\tlearn: 0.9001060\ttest: 0.9299982\tbest: 0.9299982 (25)\ttotal: 1m 34s\tremaining: 59m 2s\n",
      "26:\tlearn: 0.8987289\ttest: 0.9298609\tbest: 0.9298609 (26)\ttotal: 1m 38s\tremaining: 58m 55s\n",
      "27:\tlearn: 0.8976118\ttest: 0.9291196\tbest: 0.9291196 (27)\ttotal: 1m 41s\tremaining: 58m 45s\n",
      "28:\tlearn: 0.8963267\ttest: 0.9288828\tbest: 0.9288828 (28)\ttotal: 1m 45s\tremaining: 58m 40s\n",
      "29:\tlearn: 0.8950777\ttest: 0.9289542\tbest: 0.9288828 (28)\ttotal: 1m 48s\tremaining: 58m 30s\n",
      "30:\tlearn: 0.8940050\ttest: 0.9288555\tbest: 0.9288555 (30)\ttotal: 1m 51s\tremaining: 58m 15s\n",
      "31:\tlearn: 0.8929319\ttest: 0.9288028\tbest: 0.9288028 (31)\ttotal: 1m 55s\tremaining: 58m 9s\n",
      "32:\tlearn: 0.8916324\ttest: 0.9279569\tbest: 0.9279569 (32)\ttotal: 1m 58s\tremaining: 58m\n",
      "33:\tlearn: 0.8909179\ttest: 0.9277338\tbest: 0.9277338 (33)\ttotal: 2m 2s\tremaining: 57m 58s\n",
      "34:\tlearn: 0.8894222\ttest: 0.9275571\tbest: 0.9275571 (34)\ttotal: 2m 6s\tremaining: 58m 3s\n",
      "35:\tlearn: 0.8880911\ttest: 0.9265649\tbest: 0.9265649 (35)\ttotal: 2m 9s\tremaining: 57m 55s\n",
      "36:\tlearn: 0.8873784\ttest: 0.9265586\tbest: 0.9265586 (36)\ttotal: 2m 13s\tremaining: 57m 47s\n",
      "37:\tlearn: 0.8856196\ttest: 0.9271677\tbest: 0.9265586 (36)\ttotal: 2m 16s\tremaining: 57m 39s\n",
      "38:\tlearn: 0.8846292\ttest: 0.9271880\tbest: 0.9265586 (36)\ttotal: 2m 20s\tremaining: 57m 34s\n",
      "39:\tlearn: 0.8839573\ttest: 0.9271862\tbest: 0.9265586 (36)\ttotal: 2m 23s\tremaining: 57m 28s\n",
      "40:\tlearn: 0.8825771\ttest: 0.9263171\tbest: 0.9263171 (40)\ttotal: 2m 27s\tremaining: 57m 20s\n",
      "41:\tlearn: 0.8814947\ttest: 0.9254501\tbest: 0.9254501 (41)\ttotal: 2m 30s\tremaining: 57m 12s\n",
      "42:\tlearn: 0.8805813\ttest: 0.9254972\tbest: 0.9254501 (41)\ttotal: 2m 33s\tremaining: 57m 4s\n",
      "43:\tlearn: 0.8798442\ttest: 0.9257347\tbest: 0.9254501 (41)\ttotal: 2m 37s\tremaining: 57m 10s\n",
      "44:\tlearn: 0.8790100\ttest: 0.9254106\tbest: 0.9254106 (44)\ttotal: 2m 41s\tremaining: 57m 1s\n",
      "45:\tlearn: 0.8781802\ttest: 0.9251597\tbest: 0.9251597 (45)\ttotal: 2m 44s\tremaining: 56m 55s\n",
      "46:\tlearn: 0.8765697\ttest: 0.9237655\tbest: 0.9237655 (46)\ttotal: 2m 48s\tremaining: 56m 53s\n",
      "47:\tlearn: 0.8758262\ttest: 0.9232262\tbest: 0.9232262 (47)\ttotal: 2m 51s\tremaining: 56m 45s\n",
      "48:\tlearn: 0.8747314\ttest: 0.9224697\tbest: 0.9224697 (48)\ttotal: 2m 55s\tremaining: 56m 42s\n",
      "49:\tlearn: 0.8737474\ttest: 0.9214700\tbest: 0.9214700 (49)\ttotal: 2m 58s\tremaining: 56m 37s\n",
      "50:\tlearn: 0.8732011\ttest: 0.9210192\tbest: 0.9210192 (50)\ttotal: 3m 2s\tremaining: 56m 33s\n",
      "51:\tlearn: 0.8723752\ttest: 0.9205253\tbest: 0.9205253 (51)\ttotal: 3m 5s\tremaining: 56m 26s\n",
      "52:\tlearn: 0.8719430\ttest: 0.9203524\tbest: 0.9203524 (52)\ttotal: 3m 9s\tremaining: 56m 31s\n",
      "53:\tlearn: 0.8708043\ttest: 0.9195738\tbest: 0.9195738 (53)\ttotal: 3m 13s\tremaining: 56m 24s\n",
      "54:\tlearn: 0.8701002\ttest: 0.9200181\tbest: 0.9195738 (53)\ttotal: 3m 16s\tremaining: 56m 17s\n",
      "55:\tlearn: 0.8692770\ttest: 0.9197461\tbest: 0.9195738 (53)\ttotal: 3m 19s\tremaining: 56m 10s\n",
      "56:\tlearn: 0.8687747\ttest: 0.9194443\tbest: 0.9194443 (56)\ttotal: 3m 23s\tremaining: 56m 3s\n",
      "57:\tlearn: 0.8680747\ttest: 0.9188402\tbest: 0.9188402 (57)\ttotal: 3m 26s\tremaining: 55m 59s\n",
      "58:\tlearn: 0.8668592\ttest: 0.9188446\tbest: 0.9188402 (57)\ttotal: 3m 30s\tremaining: 55m 52s\n",
      "59:\tlearn: 0.8665866\ttest: 0.9186886\tbest: 0.9186886 (59)\ttotal: 3m 33s\tremaining: 55m 46s\n",
      "60:\tlearn: 0.8658652\ttest: 0.9183696\tbest: 0.9183696 (60)\ttotal: 3m 37s\tremaining: 55m 41s\n",
      "61:\tlearn: 0.8654011\ttest: 0.9183254\tbest: 0.9183254 (61)\ttotal: 3m 41s\tremaining: 55m 45s\n",
      "62:\tlearn: 0.8648798\ttest: 0.9182851\tbest: 0.9182851 (62)\ttotal: 3m 44s\tremaining: 55m 38s\n",
      "63:\tlearn: 0.8636789\ttest: 0.9194411\tbest: 0.9182851 (62)\ttotal: 3m 47s\tremaining: 55m 32s\n",
      "64:\tlearn: 0.8633200\ttest: 0.9194674\tbest: 0.9182851 (62)\ttotal: 3m 51s\tremaining: 55m 27s\n",
      "65:\tlearn: 0.8629716\ttest: 0.9193438\tbest: 0.9182851 (62)\ttotal: 3m 54s\tremaining: 55m 23s\n",
      "66:\tlearn: 0.8622327\ttest: 0.9204087\tbest: 0.9182851 (62)\ttotal: 3m 58s\tremaining: 55m 18s\n",
      "67:\tlearn: 0.8617812\ttest: 0.9204066\tbest: 0.9182851 (62)\ttotal: 4m 1s\tremaining: 55m 12s\n",
      "68:\tlearn: 0.8612905\ttest: 0.9201641\tbest: 0.9182851 (62)\ttotal: 4m 5s\tremaining: 55m 6s\n",
      "69:\tlearn: 0.8607639\ttest: 0.9200674\tbest: 0.9182851 (62)\ttotal: 4m 8s\tremaining: 55m 1s\n",
      "70:\tlearn: 0.8603554\ttest: 0.9200685\tbest: 0.9182851 (62)\ttotal: 4m 12s\tremaining: 55m 3s\n",
      "71:\tlearn: 0.8595800\ttest: 0.9202119\tbest: 0.9182851 (62)\ttotal: 4m 15s\tremaining: 54m 59s\n",
      "72:\tlearn: 0.8591098\ttest: 0.9201125\tbest: 0.9182851 (62)\ttotal: 4m 19s\tremaining: 54m 55s\n",
      "73:\tlearn: 0.8586162\ttest: 0.9200649\tbest: 0.9182851 (62)\ttotal: 4m 22s\tremaining: 54m 48s\n",
      "74:\tlearn: 0.8579432\ttest: 0.9195671\tbest: 0.9182851 (62)\ttotal: 4m 26s\tremaining: 54m 46s\n",
      "75:\tlearn: 0.8574951\ttest: 0.9192932\tbest: 0.9182851 (62)\ttotal: 4m 29s\tremaining: 54m 40s\n",
      "76:\tlearn: 0.8567550\ttest: 0.9187439\tbest: 0.9182851 (62)\ttotal: 4m 33s\tremaining: 54m 36s\n",
      "77:\tlearn: 0.8564437\ttest: 0.9186853\tbest: 0.9182851 (62)\ttotal: 4m 36s\tremaining: 54m 32s\n",
      "78:\tlearn: 0.8560291\ttest: 0.9184227\tbest: 0.9182851 (62)\ttotal: 4m 40s\tremaining: 54m 27s\n",
      "79:\tlearn: 0.8552346\ttest: 0.9185194\tbest: 0.9182851 (62)\ttotal: 4m 44s\tremaining: 54m 26s\n",
      "80:\tlearn: 0.8547836\ttest: 0.9185406\tbest: 0.9182851 (62)\ttotal: 4m 47s\tremaining: 54m 26s\n",
      "81:\tlearn: 0.8544447\ttest: 0.9183367\tbest: 0.9182851 (62)\ttotal: 4m 51s\tremaining: 54m 22s\n",
      "82:\tlearn: 0.8530900\ttest: 0.9181916\tbest: 0.9181916 (82)\ttotal: 4m 54s\tremaining: 54m 19s\n",
      "83:\tlearn: 0.8524846\ttest: 0.9185911\tbest: 0.9181916 (82)\ttotal: 4m 58s\tremaining: 54m 14s\n",
      "84:\tlearn: 0.8519095\ttest: 0.9186381\tbest: 0.9181916 (82)\ttotal: 5m 1s\tremaining: 54m 8s\n",
      "85:\tlearn: 0.8514800\ttest: 0.9185532\tbest: 0.9181916 (82)\ttotal: 5m 5s\tremaining: 54m 5s\n",
      "86:\tlearn: 0.8508351\ttest: 0.9168509\tbest: 0.9168509 (86)\ttotal: 5m 8s\tremaining: 54m\n",
      "87:\tlearn: 0.8504854\ttest: 0.9168523\tbest: 0.9168509 (86)\ttotal: 5m 12s\tremaining: 53m 54s\n",
      "88:\tlearn: 0.8501112\ttest: 0.9169493\tbest: 0.9168509 (86)\ttotal: 5m 15s\tremaining: 53m 52s\n",
      "89:\tlearn: 0.8496015\ttest: 0.9169990\tbest: 0.9168509 (86)\ttotal: 5m 19s\tremaining: 53m 49s\n",
      "90:\tlearn: 0.8489985\ttest: 0.9165494\tbest: 0.9165494 (90)\ttotal: 5m 22s\tremaining: 53m 44s\n",
      "91:\tlearn: 0.8486580\ttest: 0.9165026\tbest: 0.9165026 (91)\ttotal: 5m 26s\tremaining: 53m 40s\n",
      "92:\tlearn: 0.8481457\ttest: 0.9166804\tbest: 0.9165026 (91)\ttotal: 5m 29s\tremaining: 53m 37s\n",
      "93:\tlearn: 0.8477692\ttest: 0.9166412\tbest: 0.9165026 (91)\ttotal: 5m 33s\tremaining: 53m 32s\n",
      "94:\tlearn: 0.8474766\ttest: 0.9167089\tbest: 0.9165026 (91)\ttotal: 5m 36s\tremaining: 53m 30s\n",
      "95:\tlearn: 0.8470978\ttest: 0.9164128\tbest: 0.9164128 (95)\ttotal: 5m 40s\tremaining: 53m 26s\n",
      "96:\tlearn: 0.8467698\ttest: 0.9162015\tbest: 0.9162015 (96)\ttotal: 5m 44s\tremaining: 53m 23s\n",
      "97:\tlearn: 0.8465733\ttest: 0.9160902\tbest: 0.9160902 (97)\ttotal: 5m 48s\tremaining: 53m 23s\n",
      "98:\tlearn: 0.8463521\ttest: 0.9161344\tbest: 0.9160902 (97)\ttotal: 5m 51s\tremaining: 53m 21s\n",
      "99:\tlearn: 0.8461620\ttest: 0.9160907\tbest: 0.9160902 (97)\ttotal: 5m 55s\tremaining: 53m 18s\n",
      "100:\tlearn: 0.8454551\ttest: 0.9151364\tbest: 0.9151364 (100)\ttotal: 5m 58s\tremaining: 53m 15s\n",
      "101:\tlearn: 0.8453037\ttest: 0.9150017\tbest: 0.9150017 (101)\ttotal: 6m 2s\tremaining: 53m 13s\n",
      "102:\tlearn: 0.8448508\ttest: 0.9148910\tbest: 0.9148910 (102)\ttotal: 6m 6s\tremaining: 53m 10s\n",
      "103:\tlearn: 0.8443334\ttest: 0.9143503\tbest: 0.9143503 (103)\ttotal: 6m 10s\tremaining: 53m 7s\n",
      "104:\tlearn: 0.8440868\ttest: 0.9141823\tbest: 0.9141823 (104)\ttotal: 6m 13s\tremaining: 53m 4s\n",
      "105:\tlearn: 0.8436883\ttest: 0.9138642\tbest: 0.9138642 (105)\ttotal: 6m 17s\tremaining: 53m 1s\n",
      "106:\tlearn: 0.8433772\ttest: 0.9134026\tbest: 0.9134026 (106)\ttotal: 6m 21s\tremaining: 53m 1s\n",
      "107:\tlearn: 0.8431102\ttest: 0.9133675\tbest: 0.9133675 (107)\ttotal: 6m 24s\tremaining: 52m 57s\n",
      "108:\tlearn: 0.8427411\ttest: 0.9133049\tbest: 0.9133049 (108)\ttotal: 6m 28s\tremaining: 52m 53s\n",
      "109:\tlearn: 0.8422496\ttest: 0.9129602\tbest: 0.9129602 (109)\ttotal: 6m 31s\tremaining: 52m 50s\n",
      "110:\tlearn: 0.8420843\ttest: 0.9129422\tbest: 0.9129422 (110)\ttotal: 6m 35s\tremaining: 52m 47s\n",
      "111:\tlearn: 0.8414918\ttest: 0.9132065\tbest: 0.9129422 (110)\ttotal: 6m 39s\tremaining: 52m 44s\n",
      "112:\tlearn: 0.8412669\ttest: 0.9127835\tbest: 0.9127835 (112)\ttotal: 6m 42s\tremaining: 52m 39s\n",
      "113:\tlearn: 0.8408608\ttest: 0.9124805\tbest: 0.9124805 (113)\ttotal: 6m 45s\tremaining: 52m 35s\n",
      "114:\tlearn: 0.8403216\ttest: 0.9129630\tbest: 0.9124805 (113)\ttotal: 6m 49s\tremaining: 52m 31s\n",
      "115:\tlearn: 0.8400834\ttest: 0.9127777\tbest: 0.9124805 (113)\ttotal: 6m 53s\tremaining: 52m 31s\n",
      "116:\tlearn: 0.8395999\ttest: 0.9123306\tbest: 0.9123306 (116)\ttotal: 6m 57s\tremaining: 52m 27s\n",
      "117:\tlearn: 0.8388073\ttest: 0.9140268\tbest: 0.9123306 (116)\ttotal: 7m\tremaining: 52m 23s\n",
      "118:\tlearn: 0.8383962\ttest: 0.9141933\tbest: 0.9123306 (116)\ttotal: 7m 4s\tremaining: 52m 20s\n",
      "119:\tlearn: 0.8382365\ttest: 0.9141789\tbest: 0.9123306 (116)\ttotal: 7m 7s\tremaining: 52m 17s\n",
      "120:\tlearn: 0.8379719\ttest: 0.9139691\tbest: 0.9123306 (116)\ttotal: 7m 11s\tremaining: 52m 15s\n",
      "121:\tlearn: 0.8378684\ttest: 0.9139193\tbest: 0.9123306 (116)\ttotal: 7m 15s\tremaining: 52m 11s\n",
      "122:\tlearn: 0.8375293\ttest: 0.9138010\tbest: 0.9123306 (116)\ttotal: 7m 18s\tremaining: 52m 7s\n",
      "123:\tlearn: 0.8369803\ttest: 0.9133781\tbest: 0.9123306 (116)\ttotal: 7m 22s\tremaining: 52m 3s\n",
      "124:\tlearn: 0.8367048\ttest: 0.9134276\tbest: 0.9123306 (116)\ttotal: 7m 26s\tremaining: 52m 3s\n",
      "125:\tlearn: 0.8364004\ttest: 0.9133304\tbest: 0.9123306 (116)\ttotal: 7m 29s\tremaining: 51m 59s\n",
      "126:\tlearn: 0.8361809\ttest: 0.9132187\tbest: 0.9123306 (116)\ttotal: 7m 33s\tremaining: 51m 55s\n",
      "127:\tlearn: 0.8357214\ttest: 0.9128366\tbest: 0.9123306 (116)\ttotal: 7m 36s\tremaining: 51m 52s\n",
      "128:\tlearn: 0.8354325\ttest: 0.9129021\tbest: 0.9123306 (116)\ttotal: 7m 40s\tremaining: 51m 48s\n",
      "129:\tlearn: 0.8351852\ttest: 0.9126272\tbest: 0.9123306 (116)\ttotal: 7m 43s\tremaining: 51m 43s\n",
      "130:\tlearn: 0.8347940\ttest: 0.9123071\tbest: 0.9123071 (130)\ttotal: 7m 47s\tremaining: 51m 39s\n",
      "131:\tlearn: 0.8345702\ttest: 0.9122866\tbest: 0.9122866 (131)\ttotal: 7m 50s\tremaining: 51m 35s\n",
      "132:\tlearn: 0.8342979\ttest: 0.9122050\tbest: 0.9122050 (132)\ttotal: 7m 54s\tremaining: 51m 31s\n",
      "133:\tlearn: 0.8339476\ttest: 0.9121237\tbest: 0.9121237 (133)\ttotal: 7m 58s\tremaining: 51m 30s\n",
      "134:\tlearn: 0.8337286\ttest: 0.9120432\tbest: 0.9120432 (134)\ttotal: 8m 1s\tremaining: 51m 26s\n",
      "135:\tlearn: 0.8335036\ttest: 0.9119890\tbest: 0.9119890 (135)\ttotal: 8m 5s\tremaining: 51m 21s\n",
      "136:\tlearn: 0.8329155\ttest: 0.9131989\tbest: 0.9119890 (135)\ttotal: 8m 8s\tremaining: 51m 17s\n",
      "137:\tlearn: 0.8326491\ttest: 0.9131989\tbest: 0.9119890 (135)\ttotal: 8m 12s\tremaining: 51m 13s\n",
      "138:\tlearn: 0.8324546\ttest: 0.9130531\tbest: 0.9119890 (135)\ttotal: 8m 15s\tremaining: 51m 10s\n",
      "139:\tlearn: 0.8322849\ttest: 0.9133191\tbest: 0.9119890 (135)\ttotal: 8m 19s\tremaining: 51m 6s\n",
      "140:\tlearn: 0.8319515\ttest: 0.9132404\tbest: 0.9119890 (135)\ttotal: 8m 22s\tremaining: 51m 2s\n",
      "141:\tlearn: 0.8318150\ttest: 0.9131631\tbest: 0.9119890 (135)\ttotal: 8m 26s\tremaining: 50m 58s\n",
      "142:\tlearn: 0.8315581\ttest: 0.9131836\tbest: 0.9119890 (135)\ttotal: 8m 30s\tremaining: 50m 57s\n",
      "143:\tlearn: 0.8313088\ttest: 0.9132920\tbest: 0.9119890 (135)\ttotal: 8m 33s\tremaining: 50m 53s\n",
      "144:\tlearn: 0.8309503\ttest: 0.9130147\tbest: 0.9119890 (135)\ttotal: 8m 37s\tremaining: 50m 48s\n",
      "145:\tlearn: 0.8306460\ttest: 0.9145249\tbest: 0.9119890 (135)\ttotal: 8m 40s\tremaining: 50m 44s\n",
      "146:\tlearn: 0.8305006\ttest: 0.9145421\tbest: 0.9119890 (135)\ttotal: 8m 44s\tremaining: 50m 40s\n",
      "147:\tlearn: 0.8302922\ttest: 0.9143625\tbest: 0.9119890 (135)\ttotal: 8m 47s\tremaining: 50m 36s\n",
      "148:\tlearn: 0.8299066\ttest: 0.9154053\tbest: 0.9119890 (135)\ttotal: 8m 50s\tremaining: 50m 32s\n",
      "149:\tlearn: 0.8296714\ttest: 0.9139439\tbest: 0.9119890 (135)\ttotal: 8m 54s\tremaining: 50m 28s\n",
      "150:\tlearn: 0.8294925\ttest: 0.9148621\tbest: 0.9119890 (135)\ttotal: 8m 57s\tremaining: 50m 24s\n",
      "151:\tlearn: 0.8293739\ttest: 0.9147163\tbest: 0.9119890 (135)\ttotal: 9m 1s\tremaining: 50m 21s\n",
      "152:\tlearn: 0.8289659\ttest: 0.9147669\tbest: 0.9119890 (135)\ttotal: 9m 5s\tremaining: 50m 18s\n",
      "153:\tlearn: 0.8286809\ttest: 0.9148620\tbest: 0.9119890 (135)\ttotal: 9m 8s\tremaining: 50m 13s\n",
      "154:\tlearn: 0.8284789\ttest: 0.9147993\tbest: 0.9119890 (135)\ttotal: 9m 12s\tremaining: 50m 9s\n",
      "155:\tlearn: 0.8282664\ttest: 0.9147360\tbest: 0.9119890 (135)\ttotal: 9m 15s\tremaining: 50m 5s\n",
      "Stopped by overfitting detector  (20 iterations wait)\n",
      "\n",
      "bestTest = 0.9119889714\n",
      "bestIteration = 135\n",
      "\n",
      "Shrink model to first 136 iterations.\n"
     ]
    },
    {
     "data": {
      "text/plain": [
       "560.0947284698486"
      ]
     },
     "execution_count": 48,
     "metadata": {},
     "output_type": "execute_result"
    }
   ],
   "source": [
    "ts = time.time()\n",
    "\n",
    "model = CatBoostRegressor(\n",
    "    depth=10,\n",
    "    iterations=1000,\n",
    "    learning_rate=0.1,\n",
    "    colsample_bylevel=0.8,  # colsample_bytree에 대응\n",
    "    subsample=0.8,\n",
    "    random_seed=42,\n",
    "    logging_level='Verbose'  # 로그 출력 수준 설정\n",
    ")\n",
    "\n",
    "model.fit(\n",
    "    X_train, \n",
    "    Y_train, \n",
    "    eval_set=(X_valid, Y_valid),  # 단일 평가 데이터셋 사용\n",
    "    use_best_model=True,  # 조기 종료 후 최적의 모델 사용\n",
    "    early_stopping_rounds=20  # 조기 종료 설정\n",
    ")\n",
    "\n",
    "time.time() - ts"
   ]
  },
  {
   "cell_type": "code",
   "execution_count": 49,
   "metadata": {
    "execution": {
     "iopub.execute_input": "2024-06-24T09:29:21.468861Z",
     "iopub.status.busy": "2024-06-24T09:29:21.467590Z",
     "iopub.status.idle": "2024-06-24T09:29:23.999764Z",
     "shell.execute_reply": "2024-06-24T09:29:23.998950Z"
    },
    "papermill": {
     "duration": 2.690754,
     "end_time": "2024-06-24T09:29:23.999911",
     "exception": false,
     "start_time": "2024-06-24T09:29:21.309157",
     "status": "completed"
    },
    "tags": []
   },
   "outputs": [],
   "source": [
    "Y_pred = model.predict(X_valid).clip(0, 20)\n",
    "Y_test = model.predict(X_test).clip(0, 20)\n",
    "\n",
    "submission = pd.DataFrame({\n",
    "    \"ID\": test.index, \n",
    "    \"item_cnt_month\": Y_test\n",
    "})\n",
    "submission.to_csv('catboost_submission.csv', index=False)"
   ]
  },
  {
   "cell_type": "code",
   "execution_count": 50,
   "metadata": {
    "execution": {
     "iopub.execute_input": "2024-06-24T09:29:24.315353Z",
     "iopub.status.busy": "2024-06-24T09:29:24.314452Z",
     "iopub.status.idle": "2024-06-24T09:29:24.859549Z",
     "shell.execute_reply": "2024-06-24T09:29:24.860220Z"
    },
    "papermill": {
     "duration": 0.710084,
     "end_time": "2024-06-24T09:29:24.860382",
     "exception": false,
     "start_time": "2024-06-24T09:29:24.150298",
     "status": "completed"
    },
    "tags": []
   },
   "outputs": [
    {
     "data": {
      "image/png": "[encoded data removed]",
      "text/plain": [
       "<Figure size 720x1008 with 1 Axes>"
      ]
     },
     "metadata": {},
     "output_type": "display_data"
    }
   ],
   "source": [
    "import matplotlib.pyplot as plt\n",
    "import numpy as np\n",
    "\n",
    "def plot_features(model, features, figsize):\n",
    "    feature_importances = model.get_feature_importance()\n",
    "    feature_names = features.columns\n",
    "    sorted_idx = np.argsort(feature_importances)\n",
    "\n",
    "    fig, ax = plt.subplots(1, 1, figsize=figsize)\n",
    "    ax.barh(range(len(sorted_idx)), feature_importances[sorted_idx], align='center')\n",
    "    ax.set_yticks(range(len(sorted_idx)))\n",
    "    ax.set_yticklabels(np.array(feature_names)[sorted_idx])\n",
    "    ax.set_title('Feature Importance')\n",
    "    plt.show()\n",
    "\n",
    "plot_features(model, X_train, (10, 14))"
   ]
  }
 ],
 "metadata": {
  "kaggle": {
   "accelerator": "gpu",
   "dataSources": [
    {
     "databundleVersionId": 868304,
     "sourceId": 8587,
     "sourceType": "competition"
    }
   ],
   "dockerImageVersionId": 29980,
   "isGpuEnabled": true,
   "isInternetEnabled": false,
   "language": "python",
   "sourceType": "notebook"
  },
  "kernelspec": {
   "display_name": "Python 3",
   "language": "python",
   "name": "python3"
  },
  "language_info": {
   "codemirror_mode": {
    "name": "ipython",
    "version": 3
   },
   "file_extension": ".py",
   "mimetype": "text/x-python",
   "name": "python",
   "nbconvert_exporter": "python",
   "pygments_lexer": "ipython3",
   "version": "3.7.6"
  },
  "papermill": {
   "duration": 1401.216071,
   "end_time": "2024-06-24T09:29:25.323179",
   "environment_variables": {},
   "exception": null,
   "input_path": "__notebook__.ipynb",
   "output_path": "__notebook__.ipynb",
   "parameters": {},
   "start_time": "2024-06-24T09:06:04.107108",
   "version": "2.1.0"
  }
 },
 "nbformat": 4,
 "nbformat_minor": 4
}
